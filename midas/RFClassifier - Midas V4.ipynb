{
 "cells": [
  {
   "cell_type": "code",
   "execution_count": 1,
   "metadata": {},
   "outputs": [],
   "source": [
    "FOLDER_ROOT = 'F:\\Github\\ml-phd-research'\n",
    "import sys\n",
    "sys.path.append(FOLDER_ROOT)"
   ]
  },
  {
   "cell_type": "code",
   "execution_count": 2,
   "metadata": {},
   "outputs": [],
   "source": [
    "import numpy as np\n",
    "\n",
    "import pandas as pd\n",
    "\n",
    "from sklearn.metrics import accuracy_score"
   ]
  },
  {
   "cell_type": "code",
   "execution_count": 3,
   "metadata": {},
   "outputs": [],
   "source": [
    "from midas.v4.ensemble import RFClassifier"
   ]
  },
  {
   "cell_type": "markdown",
   "metadata": {},
   "source": [
    "# Testes"
   ]
  },
  {
   "cell_type": "markdown",
   "metadata": {},
   "source": [
    "Verifica se instância com os valores padrão"
   ]
  },
  {
   "cell_type": "code",
   "execution_count": 4,
   "metadata": {},
   "outputs": [],
   "source": [
    "rf = RFClassifier()"
   ]
  },
  {
   "cell_type": "code",
   "execution_count": 5,
   "metadata": {},
   "outputs": [
    {
     "name": "stdout",
     "output_type": "stream",
     "text": [
      "['__class__', '__delattr__', '__dict__', '__dir__', '__doc__', '__eq__', '__format__', '__ge__', '__getattribute__', '__getstate__', '__gt__', '__hash__', '__init__', '__init_subclass__', '__le__', '__lt__', '__module__', '__ne__', '__new__', '__reduce__', '__reduce_ex__', '__repr__', '__setattr__', '__setstate__', '__sizeof__', '__slots__', '__str__', '__subclasshook__', '__weakref__', '_adapt_massive_inputs', '_base_estimator', '_build_estimator', '_calc_boostrap_size', '_check_feature_names', '_check_inputs', '_check_n_features', '_classes', '_estimators', '_feature_estimators', '_feature_names', '_generate_sample_indices', '_get_param_names', '_get_sample_data', '_get_sample_n_feature', '_get_tags', '_make_estimator', '_more_tags', '_n_classes', '_n_estimators', '_n_features', '_n_jobs', '_params', '_repr_html_', '_repr_html_inner', '_repr_mimebundle_', '_sample_bootstrap_size', '_sample_n_feature', '_sample_strategy', '_seed', '_validate_data', '_verbose', 'fit', 'get_params', 'predict', 'predict_log_proba', 'predict_proba', 'set_params']\n"
     ]
    }
   ],
   "source": [
    "print(dir(rf))"
   ]
  },
  {
   "cell_type": "code",
   "execution_count": 6,
   "metadata": {},
   "outputs": [
    {
     "data": {
      "text/plain": [
       "sklearn.tree._classes.DecisionTreeClassifier"
      ]
     },
     "execution_count": 6,
     "metadata": {},
     "output_type": "execute_result"
    }
   ],
   "source": [
    "rf._base_estimator"
   ]
  },
  {
   "cell_type": "code",
   "execution_count": 7,
   "metadata": {},
   "outputs": [
    {
     "data": {
      "text/plain": [
       "100"
      ]
     },
     "execution_count": 7,
     "metadata": {},
     "output_type": "execute_result"
    }
   ],
   "source": [
    "rf._n_estimators"
   ]
  },
  {
   "cell_type": "code",
   "execution_count": 8,
   "metadata": {},
   "outputs": [
    {
     "data": {
      "text/plain": [
       "{'criterion': 'entropy',\n",
       " 'splitter': 'best',\n",
       " 'max_depth': None,\n",
       " 'min_samples_split': 2,\n",
       " 'min_samples_leaf': 2,\n",
       " 'min_weight_fraction_leaf': 0.0,\n",
       " 'max_features': 'auto',\n",
       " 'random_state': 100,\n",
       " 'max_leaf_nodes': None,\n",
       " 'min_impurity_decrease': 0.0,\n",
       " 'class_weight': None,\n",
       " 'ccp_alpha': 0.0}"
      ]
     },
     "execution_count": 8,
     "metadata": {},
     "output_type": "execute_result"
    }
   ],
   "source": [
    "rf._params"
   ]
  },
  {
   "cell_type": "code",
   "execution_count": 9,
   "metadata": {},
   "outputs": [
    {
     "data": {
      "text/plain": [
       "[]"
      ]
     },
     "execution_count": 9,
     "metadata": {},
     "output_type": "execute_result"
    }
   ],
   "source": [
    "rf._estimators"
   ]
  },
  {
   "cell_type": "markdown",
   "metadata": {},
   "source": [
    "Teste do fit"
   ]
  },
  {
   "cell_type": "code",
   "execution_count": 10,
   "metadata": {},
   "outputs": [],
   "source": [
    "df_stream = pd.read_csv('https://github.com/scikit-multiflow/streaming-datasets/raw/master/agr_a.csv',\n",
    "                        engine='c', low_memory=True, memory_map=True)\n",
    "\n",
    "X = df_stream[df_stream.columns[:-1]]\n",
    "y = df_stream['class']"
   ]
  },
  {
   "cell_type": "code",
   "execution_count": 11,
   "metadata": {},
   "outputs": [
    {
     "data": {
      "text/html": [
       "<div>\n",
       "<style scoped>\n",
       "    .dataframe tbody tr th:only-of-type {\n",
       "        vertical-align: middle;\n",
       "    }\n",
       "\n",
       "    .dataframe tbody tr th {\n",
       "        vertical-align: top;\n",
       "    }\n",
       "\n",
       "    .dataframe thead th {\n",
       "        text-align: right;\n",
       "    }\n",
       "</style>\n",
       "<table border=\"1\" class=\"dataframe\">\n",
       "  <thead>\n",
       "    <tr style=\"text-align: right;\">\n",
       "      <th></th>\n",
       "      <th>salary</th>\n",
       "      <th>commission</th>\n",
       "      <th>age</th>\n",
       "      <th>elevel</th>\n",
       "      <th>car</th>\n",
       "      <th>zipcode</th>\n",
       "      <th>hvalue</th>\n",
       "      <th>hyears</th>\n",
       "      <th>loan</th>\n",
       "    </tr>\n",
       "  </thead>\n",
       "  <tbody>\n",
       "    <tr>\n",
       "      <th>0</th>\n",
       "      <td>110499.735409</td>\n",
       "      <td>0.000000</td>\n",
       "      <td>54</td>\n",
       "      <td>3</td>\n",
       "      <td>6</td>\n",
       "      <td>4</td>\n",
       "      <td>135000.0</td>\n",
       "      <td>30</td>\n",
       "      <td>354724.182530</td>\n",
       "    </tr>\n",
       "    <tr>\n",
       "      <th>1</th>\n",
       "      <td>140893.779095</td>\n",
       "      <td>0.000000</td>\n",
       "      <td>44</td>\n",
       "      <td>4</td>\n",
       "      <td>12</td>\n",
       "      <td>7</td>\n",
       "      <td>135000.0</td>\n",
       "      <td>2</td>\n",
       "      <td>395015.339020</td>\n",
       "    </tr>\n",
       "    <tr>\n",
       "      <th>2</th>\n",
       "      <td>119159.651677</td>\n",
       "      <td>0.000000</td>\n",
       "      <td>49</td>\n",
       "      <td>2</td>\n",
       "      <td>0</td>\n",
       "      <td>3</td>\n",
       "      <td>135000.0</td>\n",
       "      <td>22</td>\n",
       "      <td>122025.085242</td>\n",
       "    </tr>\n",
       "    <tr>\n",
       "      <th>3</th>\n",
       "      <td>20000.000000</td>\n",
       "      <td>52593.636537</td>\n",
       "      <td>56</td>\n",
       "      <td>0</td>\n",
       "      <td>19</td>\n",
       "      <td>1</td>\n",
       "      <td>135000.0</td>\n",
       "      <td>30</td>\n",
       "      <td>99629.621457</td>\n",
       "    </tr>\n",
       "    <tr>\n",
       "      <th>4</th>\n",
       "      <td>93956.320488</td>\n",
       "      <td>0.000000</td>\n",
       "      <td>59</td>\n",
       "      <td>1</td>\n",
       "      <td>6</td>\n",
       "      <td>1</td>\n",
       "      <td>135000.0</td>\n",
       "      <td>1</td>\n",
       "      <td>458679.826238</td>\n",
       "    </tr>\n",
       "  </tbody>\n",
       "</table>\n",
       "</div>"
      ],
      "text/plain": [
       "          salary    commission  age  elevel  car  zipcode    hvalue  hyears  \\\n",
       "0  110499.735409      0.000000   54       3    6        4  135000.0      30   \n",
       "1  140893.779095      0.000000   44       4   12        7  135000.0       2   \n",
       "2  119159.651677      0.000000   49       2    0        3  135000.0      22   \n",
       "3   20000.000000  52593.636537   56       0   19        1  135000.0      30   \n",
       "4   93956.320488      0.000000   59       1    6        1  135000.0       1   \n",
       "\n",
       "            loan  \n",
       "0  354724.182530  \n",
       "1  395015.339020  \n",
       "2  122025.085242  \n",
       "3   99629.621457  \n",
       "4  458679.826238  "
      ]
     },
     "execution_count": 11,
     "metadata": {},
     "output_type": "execute_result"
    }
   ],
   "source": [
    "X.head()"
   ]
  },
  {
   "cell_type": "code",
   "execution_count": 12,
   "metadata": {},
   "outputs": [],
   "source": [
    "rf = rf.fit(X, y)"
   ]
  },
  {
   "cell_type": "code",
   "execution_count": 14,
   "metadata": {},
   "outputs": [
    {
     "data": {
      "text/plain": [
       "array([list([3, 4, 1]), list([4, 0, 3]), list([1, 3, 2]), list([1, 4, 3]),\n",
       "       list([5, 1, 3]), list([7, 4, 8]), list([7, 5, 8]), list([7, 3, 0]),\n",
       "       list([8, 2, 6]), list([8, 7, 6]), list([0, 6, 4]), list([5, 3, 8]),\n",
       "       list([6, 2, 3]), list([8, 5, 3]), list([7, 4, 3]), list([2, 8, 1]),\n",
       "       list([1, 2, 8]), list([0, 8, 3]), list([4, 3, 8]), list([6, 8, 5]),\n",
       "       list([7, 4, 8]), list([4, 3, 1]), list([1, 7, 2]), list([1, 6, 0]),\n",
       "       list([2, 1, 7]), list([6, 3, 1]), list([2, 3, 8]), list([5, 6, 4]),\n",
       "       list([7, 4, 3]), list([3, 1, 6]), list([1, 7, 6]), list([1, 2, 7]),\n",
       "       list([2, 8, 6]), list([4, 0, 5]), list([6, 4, 2]), list([2, 6, 0]),\n",
       "       list([7, 5, 4]), list([8, 1, 0]), list([4, 2, 8]), list([3, 2, 8]),\n",
       "       list([7, 2, 4]), list([8, 1, 5]), list([8, 1, 5]), list([6, 2, 5]),\n",
       "       list([7, 8, 6]), list([3, 5, 4]), list([5, 8, 3]), list([1, 7, 4]),\n",
       "       list([4, 1, 3]), list([7, 6, 8]), list([0, 2, 1]), list([4, 3, 2]),\n",
       "       list([7, 0, 8]), list([1, 8, 4]), list([5, 7, 1]), list([7, 2, 5]),\n",
       "       list([6, 3, 2]), list([4, 2, 7]), list([8, 5, 0]), list([3, 7, 4]),\n",
       "       list([5, 2, 4]), list([5, 4, 2]), list([1, 6, 7]), list([7, 5, 6]),\n",
       "       list([5, 4, 3]), list([2, 3, 8]), list([6, 7, 0]), list([7, 8, 4]),\n",
       "       list([2, 0, 3]), list([5, 3, 6]), list([1, 0, 8]), list([0, 4, 6]),\n",
       "       list([4, 8, 2]), list([2, 4, 0]), list([5, 4, 2]), list([2, 0, 5]),\n",
       "       list([6, 5, 4]), list([6, 3, 4]), list([3, 8, 2]), list([8, 6, 1]),\n",
       "       list([5, 2, 0]), list([6, 3, 8]), list([7, 6, 8]), list([0, 1, 2]),\n",
       "       list([1, 7, 8]), list([4, 3, 0]), list([3, 7, 4]), list([5, 1, 4]),\n",
       "       list([4, 6, 7]), list([5, 4, 6]), list([6, 5, 4]), list([8, 2, 4]),\n",
       "       list([8, 0, 3]), list([2, 7, 5]), list([4, 5, 0]), list([3, 2, 7]),\n",
       "       list([7, 2, 6]), list([3, 6, 0]), list([2, 1, 3]), list([3, 0, 2])],\n",
       "      dtype=object)"
      ]
     },
     "execution_count": 14,
     "metadata": {},
     "output_type": "execute_result"
    }
   ],
   "source": [
    "rf._feature_estimators"
   ]
  },
  {
   "cell_type": "code",
   "execution_count": null,
   "metadata": {},
   "outputs": [],
   "source": []
  }
 ],
 "metadata": {
  "kernelspec": {
   "display_name": "Python 3 (ipykernel)",
   "language": "python",
   "name": "python3"
  },
  "language_info": {
   "codemirror_mode": {
    "name": "ipython",
    "version": 3
   },
   "file_extension": ".py",
   "mimetype": "text/x-python",
   "name": "python",
   "nbconvert_exporter": "python",
   "pygments_lexer": "ipython3",
   "version": "3.7.2"
  },
  "varInspector": {
   "cols": {
    "lenName": 16,
    "lenType": 16,
    "lenVar": 40
   },
   "kernels_config": {
    "python": {
     "delete_cmd_postfix": "",
     "delete_cmd_prefix": "del ",
     "library": "var_list.py",
     "varRefreshCmd": "print(var_dic_list())"
    },
    "r": {
     "delete_cmd_postfix": ") ",
     "delete_cmd_prefix": "rm(",
     "library": "var_list.r",
     "varRefreshCmd": "cat(var_dic_list()) "
    }
   },
   "types_to_exclude": [
    "module",
    "function",
    "builtin_function_or_method",
    "instance",
    "_Feature"
   ],
   "window_display": false
  }
 },
 "nbformat": 4,
 "nbformat_minor": 2
}

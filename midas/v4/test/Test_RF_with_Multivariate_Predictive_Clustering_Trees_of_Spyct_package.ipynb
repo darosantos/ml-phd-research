{
  "nbformat": 4,
  "nbformat_minor": 0,
  "metadata": {
    "colab": {
      "provenance": []
    },
    "kernelspec": {
      "name": "python3",
      "display_name": "Python 3"
    },
    "language_info": {
      "name": "python"
    }
  },
  "cells": [
    {
      "cell_type": "markdown",
      "source": [
        "# **Test RF with Multivariate Predictive Clustering Trees of Spyct package**"
      ],
      "metadata": {
        "id": "j7wr-n0W65Tb"
      }
    },
    {
      "cell_type": "markdown",
      "source": [
        "https://github.com/knowledge-technologies/spyct\n",
        "\n",
        "\n",
        "```\n",
        "@misc{stepinik2020oblique,\n",
        "    title={Oblique Predictive Clustering Trees},\n",
        "    author={Tomaž Stepišnik and Dragi Kocev},\n",
        "    year={2020},\n",
        "    eprint={2007.13617},\n",
        "    archivePrefix={arXiv},\n",
        "    primaryClass={cs.LG}\n",
        "}\n",
        "```\n",
        "\n"
      ],
      "metadata": {
        "id": "SEA60zDt6wEb"
      }
    },
    {
      "cell_type": "code",
      "execution_count": null,
      "metadata": {
        "colab": {
          "base_uri": "https://localhost:8080/"
        },
        "id": "TPZZv7qg31C_",
        "outputId": "30a8ab66-56b4-46b5-b629-b0db11ca034a"
      },
      "outputs": [
        {
          "output_type": "stream",
          "name": "stdout",
          "text": [
            "Looking in indexes: https://pypi.org/simple, https://us-python.pkg.dev/colab-wheels/public/simple/\n",
            "Collecting git+https://gitlab.com/TStepi/spyct.git\n",
            "  Cloning https://gitlab.com/TStepi/spyct.git to /tmp/pip-req-build-qkjgknht\n",
            "  Running command git clone --filter=blob:none --quiet https://gitlab.com/TStepi/spyct.git /tmp/pip-req-build-qkjgknht\n",
            "  Resolved https://gitlab.com/TStepi/spyct.git to commit 0bc9808a41f49ebb7adbd26c63965b7bd108903e\n",
            "  Preparing metadata (setup.py) ... \u001b[?25l\u001b[?25hdone\n",
            "Requirement already satisfied: numpy in /usr/local/lib/python3.8/dist-packages (from spyct-tstepi==1.0) (1.21.6)\n",
            "Requirement already satisfied: scipy in /usr/local/lib/python3.8/dist-packages (from spyct-tstepi==1.0) (1.7.3)\n",
            "Requirement already satisfied: joblib in /usr/local/lib/python3.8/dist-packages (from spyct-tstepi==1.0) (1.2.0)\n",
            "Requirement already satisfied: scikit-learn in /usr/local/lib/python3.8/dist-packages (from spyct-tstepi==1.0) (1.0.2)\n",
            "Requirement already satisfied: threadpoolctl>=2.0.0 in /usr/local/lib/python3.8/dist-packages (from scikit-learn->spyct-tstepi==1.0) (3.1.0)\n"
          ]
        }
      ],
      "source": [
        "pip install git+https://gitlab.com/TStepi/spyct.git"
      ]
    },
    {
      "cell_type": "code",
      "source": [
        "FOLDER_ROOT = '/content/drive/MyDrive'\n",
        "import sys\n",
        "sys.path.append(FOLDER_ROOT)\n",
        "\n",
        "import pandas as pd\n",
        "\n",
        "import numpy as np\n",
        "\n",
        "from sklearn.model_selection import train_test_split\n",
        "from sklearn.metrics import accuracy_score\n",
        "from sklearn.tree import DecisionTreeClassifier\n",
        "from sklearn.preprocessing import OneHotEncoder\n",
        "from sklearn.metrics import confusion_matrix\n",
        "\n",
        "from midas.v4.ensemble import RFClassifier\n",
        "\n",
        "import spyct"
      ],
      "metadata": {
        "id": "8IAXQ7216UHd"
      },
      "execution_count": null,
      "outputs": []
    },
    {
      "cell_type": "code",
      "source": [
        "df_stream = pd.read_csv('https://github.com/scikit-multiflow/streaming-datasets/raw/master/agr_a.csv',\n",
        "                        engine='c', low_memory=True, memory_map=True)\n",
        "\n",
        "X = df_stream[df_stream.columns[:-1]]\n",
        "y = df_stream['class']\n",
        "\n",
        "X_train, X_test, y_train, y_test = train_test_split(X, y, test_size=0.70, random_state=100)"
      ],
      "metadata": {
        "id": "heYY98-A6ZJO"
      },
      "execution_count": null,
      "outputs": []
    },
    {
      "cell_type": "markdown",
      "source": [
        "Testa o código para ver se funciona"
      ],
      "metadata": {
        "id": "uVBGVlPGLobQ"
      }
    },
    {
      "cell_type": "code",
      "source": [
        "# Fit the model and make predictions\n",
        "model = spyct.Model()\n",
        "model.fit(X_train.to_numpy(copy=True), y_train.to_numpy(copy=True).reshape(-1, 1))\n",
        "y_pred = model.predict(X_test.to_numpy(copy=True))\n",
        "\n",
        "# decode the encoded predictions\n",
        "y_pred = np.argmax(y_pred, axis=1)\n",
        "\n",
        "# Show the confusion matrix\n",
        "print(confusion_matrix(y_test, y_pred))"
      ],
      "metadata": {
        "id": "uSFUEwxb7acb",
        "colab": {
          "base_uri": "https://localhost:8080/"
        },
        "outputId": "2c4a00db-70e7-4cb5-d184-6629180fdc88"
      },
      "execution_count": null,
      "outputs": [
        {
          "output_type": "stream",
          "name": "stdout",
          "text": [
            "[[369561      0]\n",
            " [330439      0]]\n"
          ]
        }
      ]
    },
    {
      "cell_type": "code",
      "source": [
        "accuracy_score(y_test, y_pred)"
      ],
      "metadata": {
        "colab": {
          "base_uri": "https://localhost:8080/"
        },
        "id": "5wWtVXEVLTzC",
        "outputId": "e387b9f1-9345-470c-eec4-4313a877c4c9"
      },
      "execution_count": null,
      "outputs": [
        {
          "output_type": "execute_result",
          "data": {
            "text/plain": [
              "0.5279442857142858"
            ]
          },
          "metadata": {},
          "execution_count": 8
        }
      ]
    },
    {
      "cell_type": "markdown",
      "source": [
        "Testa com o RFClassifier"
      ],
      "metadata": {
        "id": "85CN6kKCLsIo"
      }
    },
    {
      "cell_type": "code",
      "source": [
        "cfg_base_estimator = {'splitter':'svm', # 'grad' or 'svm'\n",
        "                      'num_trees': 100,\n",
        "                      'max_features': 1.0, # int, float, \"sqrt\", \"log\"\n",
        "                      'bootstrapping':None, # True or False\n",
        "                      'max_depth': np.inf, # or int\n",
        "                      'min_examples_to_split': 2,\n",
        "                      'min_impurity_decrease': 0, # or float\n",
        "                      'n_jobs':-1, # 1\n",
        "                      'standardize_descriptive': True,\n",
        "                      'standardize_clustering': True,\n",
        "                      'max_iter':100,\n",
        "                      'lr': 0.01, # or float\n",
        "                      'C': 0, # or float\n",
        "                      'balance_classes': True,\n",
        "                      'tol': 0, # or float\n",
        "                      'eps':1e-8, # or float\n",
        "                      #adam_beta1: 0.9, # or float if solitter='grad'\n",
        "                      #adam_beta2: 0.999, # or float if solitter='grad'\n",
        "                      'random_state':100, # RandomState instance, int, (default=None)\n",
        "                      }\n",
        "\n",
        "rf = RFClassifier(base_estimator=spyct.Model,\n",
        "                  n_estimators=100,\n",
        "                  params_estimators=cfg_base_estimator,\n",
        "                  enable_logger=True)\n",
        "\n",
        "rf._setup_logger(log_file='/content/drive/MyDrive/Testes e Experimentos/Testes/rf.spyct.debuging.log')\n",
        "\n",
        "rf = rf.fit(X_train, y_train)\n",
        "\n",
        "y_pred = rf.predict(X_test)\n",
        "\n",
        "print('Acc with oblique tree', accuracy_score(y_test, y_pred))"
      ],
      "metadata": {
        "colab": {
          "base_uri": "https://localhost:8080/",
          "height": 356
        },
        "id": "PSu1T9hALYCP",
        "outputId": "ceeaafcf-dd7f-44a3-de28-b21029aa8e6e"
      },
      "execution_count": null,
      "outputs": [
        {
          "output_type": "error",
          "ename": "AttributeError",
          "evalue": "ignored",
          "traceback": [
            "\u001b[0;31m---------------------------------------------------------------------------\u001b[0m",
            "\u001b[0;31mAttributeError\u001b[0m                            Traceback (most recent call last)",
            "\u001b[0;32m<ipython-input-19-16d8294027d6>\u001b[0m in \u001b[0;36m<module>\u001b[0;34m\u001b[0m\n\u001b[1;32m     27\u001b[0m \u001b[0mrf\u001b[0m\u001b[0;34m.\u001b[0m\u001b[0m_setup_logger\u001b[0m\u001b[0;34m(\u001b[0m\u001b[0mlog_file\u001b[0m\u001b[0;34m=\u001b[0m\u001b[0;34m'/content/drive/MyDrive/Testes e Experimentos/Testes/rf.spyct.debuging.log'\u001b[0m\u001b[0;34m)\u001b[0m\u001b[0;34m\u001b[0m\u001b[0;34m\u001b[0m\u001b[0m\n\u001b[1;32m     28\u001b[0m \u001b[0;34m\u001b[0m\u001b[0m\n\u001b[0;32m---> 29\u001b[0;31m \u001b[0mrf\u001b[0m \u001b[0;34m=\u001b[0m \u001b[0mrf\u001b[0m\u001b[0;34m.\u001b[0m\u001b[0mfit\u001b[0m\u001b[0;34m(\u001b[0m\u001b[0mX_train\u001b[0m\u001b[0;34m,\u001b[0m \u001b[0my_train\u001b[0m\u001b[0;34m.\u001b[0m\u001b[0mreshape\u001b[0m\u001b[0;34m(\u001b[0m\u001b[0;34m-\u001b[0m\u001b[0;36m1\u001b[0m\u001b[0;34m,\u001b[0m \u001b[0;36m1\u001b[0m\u001b[0;34m)\u001b[0m\u001b[0;34m)\u001b[0m\u001b[0;34m\u001b[0m\u001b[0;34m\u001b[0m\u001b[0m\n\u001b[0m\u001b[1;32m     30\u001b[0m \u001b[0;34m\u001b[0m\u001b[0m\n\u001b[1;32m     31\u001b[0m \u001b[0my_pred\u001b[0m \u001b[0;34m=\u001b[0m \u001b[0mrf\u001b[0m\u001b[0;34m.\u001b[0m\u001b[0mpredict\u001b[0m\u001b[0;34m(\u001b[0m\u001b[0mX_test\u001b[0m\u001b[0;34m)\u001b[0m\u001b[0;34m\u001b[0m\u001b[0;34m\u001b[0m\u001b[0m\n",
            "\u001b[0;32m/usr/local/lib/python3.8/dist-packages/pandas/core/generic.py\u001b[0m in \u001b[0;36m__getattr__\u001b[0;34m(self, name)\u001b[0m\n\u001b[1;32m   5485\u001b[0m         ):\n\u001b[1;32m   5486\u001b[0m             \u001b[0;32mreturn\u001b[0m \u001b[0mself\u001b[0m\u001b[0;34m[\u001b[0m\u001b[0mname\u001b[0m\u001b[0;34m]\u001b[0m\u001b[0;34m\u001b[0m\u001b[0;34m\u001b[0m\u001b[0m\n\u001b[0;32m-> 5487\u001b[0;31m         \u001b[0;32mreturn\u001b[0m \u001b[0mobject\u001b[0m\u001b[0;34m.\u001b[0m\u001b[0m__getattribute__\u001b[0m\u001b[0;34m(\u001b[0m\u001b[0mself\u001b[0m\u001b[0;34m,\u001b[0m \u001b[0mname\u001b[0m\u001b[0;34m)\u001b[0m\u001b[0;34m\u001b[0m\u001b[0;34m\u001b[0m\u001b[0m\n\u001b[0m\u001b[1;32m   5488\u001b[0m \u001b[0;34m\u001b[0m\u001b[0m\n\u001b[1;32m   5489\u001b[0m     \u001b[0;32mdef\u001b[0m \u001b[0m__setattr__\u001b[0m\u001b[0;34m(\u001b[0m\u001b[0mself\u001b[0m\u001b[0;34m,\u001b[0m \u001b[0mname\u001b[0m\u001b[0;34m:\u001b[0m \u001b[0mstr\u001b[0m\u001b[0;34m,\u001b[0m \u001b[0mvalue\u001b[0m\u001b[0;34m)\u001b[0m \u001b[0;34m->\u001b[0m \u001b[0;32mNone\u001b[0m\u001b[0;34m:\u001b[0m\u001b[0;34m\u001b[0m\u001b[0;34m\u001b[0m\u001b[0m\n",
            "\u001b[0;31mAttributeError\u001b[0m: 'Series' object has no attribute 'reshape'"
          ]
        }
      ]
    }
  ]
}
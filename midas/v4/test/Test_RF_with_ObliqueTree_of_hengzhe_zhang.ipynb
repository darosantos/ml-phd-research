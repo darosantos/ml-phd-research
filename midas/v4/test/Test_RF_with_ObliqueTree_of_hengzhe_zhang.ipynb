{
  "nbformat": 4,
  "nbformat_minor": 0,
  "metadata": {
    "colab": {
      "provenance": []
    },
    "kernelspec": {
      "name": "python3",
      "display_name": "Python 3"
    },
    "language_info": {
      "name": "python"
    }
  },
  "cells": [
    {
      "cell_type": "markdown",
      "source": [
        "# **Test RF with ObliqueTree of hengzhe-zhang**"
      ],
      "metadata": {
        "id": "LigOdOAaSHSp"
      }
    },
    {
      "cell_type": "markdown",
      "source": [
        "https://github.com/hengzhe-zhang/scikit-obliquetree\n",
        "\n",
        "https://pypi.org/project/scikit-obliquetree/\n",
        "  \n",
        "\n",
        "```\n",
        "@misc{scikit-obliquetree,\n",
        "    author = {ECNU},\n",
        "    title = {Oblique Decision Tree in Python},\n",
        "    year = {2021},\n",
        "    publisher = {GitHub},\n",
        "    journal = {GitHub repository},\n",
        "    howpublished = {\\url{https://github.com/zhenlingcn/scikit-obliquetree}}\n",
        "  }\n",
        "```\n",
        "\n"
      ],
      "metadata": {
        "id": "jW8lC_uPNBoJ"
      }
    },
    {
      "cell_type": "code",
      "source": [
        "pip install typing-extensions"
      ],
      "metadata": {
        "colab": {
          "base_uri": "https://localhost:8080/"
        },
        "id": "l5l6em1KSbqx",
        "outputId": "9cf64c29-8c02-4195-cc1c-e9ba006627c4"
      },
      "execution_count": null,
      "outputs": [
        {
          "output_type": "stream",
          "name": "stdout",
          "text": [
            "Looking in indexes: https://pypi.org/simple, https://us-python.pkg.dev/colab-wheels/public/simple/\n",
            "Requirement already satisfied: typing-extensions in /usr/local/lib/python3.8/dist-packages (4.4.0)\n"
          ]
        }
      ]
    },
    {
      "cell_type": "code",
      "execution_count": null,
      "metadata": {
        "colab": {
          "base_uri": "https://localhost:8080/"
        },
        "id": "CSreDRvGSApG",
        "outputId": "3e9c59d0-8725-43c8-ca3b-d8010dddb01b"
      },
      "outputs": [
        {
          "output_type": "stream",
          "name": "stdout",
          "text": [
            "Looking in indexes: https://pypi.org/simple, https://us-python.pkg.dev/colab-wheels/public/simple/\n",
            "Requirement already satisfied: scikit-obliquetree in /usr/local/lib/python3.8/dist-packages (0.1.4)\n",
            "Requirement already satisfied: typer[all]<0.4.0,>=0.3.2 in /usr/local/lib/python3.8/dist-packages (from scikit-obliquetree) (0.3.2)\n",
            "Requirement already satisfied: rich<10.0.0,>=9.8.2 in /usr/local/lib/python3.8/dist-packages (from scikit-obliquetree) (9.13.0)\n",
            "Requirement already satisfied: colorama<0.5.0,>=0.4.0 in /usr/local/lib/python3.8/dist-packages (from rich<10.0.0,>=9.8.2->scikit-obliquetree) (0.4.6)\n",
            "Requirement already satisfied: pygments<3.0.0,>=2.6.0 in /usr/local/lib/python3.8/dist-packages (from rich<10.0.0,>=9.8.2->scikit-obliquetree) (2.6.1)\n",
            "Requirement already satisfied: typing-extensions<4.0.0,>=3.7.4 in /usr/local/lib/python3.8/dist-packages (from rich<10.0.0,>=9.8.2->scikit-obliquetree) (3.10.0.2)\n",
            "Requirement already satisfied: commonmark<0.10.0,>=0.9.0 in /usr/local/lib/python3.8/dist-packages (from rich<10.0.0,>=9.8.2->scikit-obliquetree) (0.9.1)\n",
            "Requirement already satisfied: click<7.2.0,>=7.1.1 in /usr/local/lib/python3.8/dist-packages (from typer[all]<0.4.0,>=0.3.2->scikit-obliquetree) (7.1.2)\n",
            "Requirement already satisfied: shellingham<2.0.0,>=1.3.0 in /usr/local/lib/python3.8/dist-packages (from typer[all]<0.4.0,>=0.3.2->scikit-obliquetree) (1.5.0.post1)\n"
          ]
        }
      ],
      "source": [
        "pip install -U scikit-obliquetree"
      ]
    },
    {
      "cell_type": "code",
      "source": [
        "FOLDER_ROOT = '/content/drive/MyDrive'\n",
        "import sys\n",
        "sys.path.append(FOLDER_ROOT)\n",
        "\n",
        "import pandas as pd\n",
        "\n",
        "from sklearn.model_selection import train_test_split\n",
        "from sklearn.metrics import accuracy_score\n",
        "from sklearn.tree import DecisionTreeClassifier\n",
        "\n",
        "from midas.v4.ensemble import RFClassifier\n",
        "\n",
        "from scikit_obliquetree.HHCART import HouseHolderCART\n",
        "from scikit_obliquetree.CO2 import ContinuouslyOptimizedObliqueRegressionTree\n",
        "from scikit_obliquetree.BUTIF import BUTIF\n",
        "from scikit_obliquetree.segmentor import MSE, MeanSegmentor"
      ],
      "metadata": {
        "id": "ZIn7xzmt0F1Z"
      },
      "execution_count": null,
      "outputs": []
    },
    {
      "cell_type": "code",
      "source": [
        "df_stream = pd.read_csv('https://github.com/scikit-multiflow/streaming-datasets/raw/master/agr_a.csv',\n",
        "                        engine='c', low_memory=True, memory_map=True)\n",
        "\n",
        "X = df_stream[df_stream.columns[:-1]]\n",
        "y = df_stream['class']\n",
        "\n",
        "X_train, X_test, y_train, y_test = train_test_split(X, y, test_size=0.70, random_state=100)"
      ],
      "metadata": {
        "id": "XJyu7kAc0S-f"
      },
      "execution_count": null,
      "outputs": []
    },
    {
      "cell_type": "code",
      "source": [
        "from sklearn.linear_model import Ridge, LogisticRegression\n",
        "\n",
        "cfg_base_estimator={'clustering_method':\"k-means\",\n",
        "                    'max_leaf':5,\n",
        "                    'linear_model':LogisticRegression(penalty='l2', dual=False,\n",
        "                                                      tol=1e-4, C=1.0,\n",
        "                                                      fit_intercept=True,\n",
        "                                                      intercept_scaling=1,\n",
        "                                                      class_weight='balanced',\n",
        "                                                      random_state=100,\n",
        "                                                      solver='lbfgs',\n",
        "                                                      max_iter=1000,\n",
        "                                                      multi_class='auto',\n",
        "                                                      verbose=0,\n",
        "                                                      warm_start=False,\n",
        "                                                      n_jobs=-1),\n",
        "                    'task':\"classification\",\n",
        "                    'selector':None,\n",
        "                    'best_k':None\n",
        "                  }\n",
        "\n",
        "rf = RFClassifier(base_estimator=BUTIF,\n",
        "                  n_estimators=100,\n",
        "                  params_estimators=cfg_base_estimator,\n",
        "                  enable_logger=True)\n",
        "\n",
        "rf._setup_logger(log_file='/content/drive/MyDrive/Testes e Experimentos/Testes/rf.obliquetree.debuging.log')\n",
        "\n",
        "rf = rf.fit(X_train, y_train)\n",
        "\n",
        "y_pred = rf.predict(X_test)\n",
        "\n",
        "print('Acc with oblique tree', accuracy_score(y_test, y_pred))"
      ],
      "metadata": {
        "id": "N21e_-yu0Uc3",
        "colab": {
          "base_uri": "https://localhost:8080/"
        },
        "outputId": "8171d76d-c0b5-4154-b972-a6e43eb7f62d"
      },
      "execution_count": null,
      "outputs": [
        {
          "output_type": "stream",
          "name": "stderr",
          "text": [
            "INFO:rflog:Tree index [1] build with the feature index [3, 0, 2] and data index [230065 250494  37253 ... 274949 143113  23736]\n",
            "\n",
            "INFO:rflog:Tree index [0] build with the feature index [8, 2, 4] and data index [230065 250494  37253 ... 274949 143113  23736]\n",
            "\n",
            "INFO:rflog:Tree index [2] build with the feature index [7, 0, 1] and data index [230065 250494  37253 ... 274949 143113  23736]\n",
            "\n",
            "INFO:rflog:Tree index [3] build with the feature index [7, 4, 5] and data index [230065 250494  37253 ... 274949 143113  23736]\n",
            "\n",
            "INFO:rflog:Tree index [4] build with the feature index [5, 3, 0] and data index [230065 250494  37253 ... 274949 143113  23736]\n",
            "\n",
            "INFO:rflog:Tree index [5] build with the feature index [5, 6, 4] and data index [230065 250494  37253 ... 274949 143113  23736]\n",
            "\n",
            "INFO:rflog:Tree index [6] build with the feature index [0, 3, 1] and data index [230065 250494  37253 ... 274949 143113  23736]\n",
            "\n",
            "INFO:rflog:Tree index [7] build with the feature index [4, 6, 0] and data index [230065 250494  37253 ... 274949 143113  23736]\n",
            "\n",
            "INFO:rflog:Tree index [8] build with the feature index [5, 2, 8] and data index [230065 250494  37253 ... 274949 143113  23736]\n",
            "\n",
            "INFO:rflog:Tree index [9] build with the feature index [2, 8, 1] and data index [230065 250494  37253 ... 274949 143113  23736]\n",
            "\n",
            "INFO:rflog:Tree index [10] build with the feature index [1, 8, 3] and data index [230065 250494  37253 ... 274949 143113  23736]\n",
            "\n",
            "INFO:rflog:Tree index [11] build with the feature index [4, 2, 7] and data index [230065 250494  37253 ... 274949 143113  23736]\n",
            "\n",
            "INFO:rflog:Tree index [12] build with the feature index [7, 4, 1] and data index [230065 250494  37253 ... 274949 143113  23736]\n",
            "\n",
            "INFO:rflog:Tree index [13] build with the feature index [2, 0, 8] and data index [230065 250494  37253 ... 274949 143113  23736]\n",
            "\n",
            "INFO:rflog:Tree index [14] build with the feature index [8, 4, 1] and data index [230065 250494  37253 ... 274949 143113  23736]\n",
            "\n",
            "INFO:rflog:Tree index [15] build with the feature index [3, 0, 6] and data index [230065 250494  37253 ... 274949 143113  23736]\n",
            "\n",
            "INFO:rflog:Tree index [16] build with the feature index [4, 3, 1] and data index [230065 250494  37253 ... 274949 143113  23736]\n",
            "\n",
            "INFO:rflog:Tree index [17] build with the feature index [4, 7, 3] and data index [230065 250494  37253 ... 274949 143113  23736]\n",
            "\n",
            "INFO:rflog:Tree index [18] build with the feature index [0, 2, 1] and data index [230065 250494  37253 ... 274949 143113  23736]\n",
            "\n",
            "INFO:rflog:Tree index [19] build with the feature index [6, 1, 7] and data index [230065 250494  37253 ... 274949 143113  23736]\n",
            "\n",
            "INFO:rflog:Tree index [20] build with the feature index [0, 3, 1] and data index [230065 250494  37253 ... 274949 143113  23736]\n",
            "\n",
            "INFO:rflog:Tree index [21] build with the feature index [6, 7, 1] and data index [230065 250494  37253 ... 274949 143113  23736]\n",
            "\n",
            "INFO:rflog:Tree index [22] build with the feature index [7, 0, 6] and data index [230065 250494  37253 ... 274949 143113  23736]\n",
            "\n",
            "INFO:rflog:Tree index [24] build with the feature index [7, 6, 4] and data index [230065 250494  37253 ... 274949 143113  23736]\n",
            "\n",
            "INFO:rflog:Tree index [23] build with the feature index [2, 6, 7] and data index [230065 250494  37253 ... 274949 143113  23736]\n",
            "\n",
            "INFO:rflog:Tree index [25] build with the feature index [2, 0, 6] and data index [230065 250494  37253 ... 274949 143113  23736]\n",
            "\n",
            "INFO:rflog:Tree index [26] build with the feature index [4, 2, 7] and data index [230065 250494  37253 ... 274949 143113  23736]\n",
            "\n",
            "INFO:rflog:Tree index [27] build with the feature index [0, 3, 5] and data index [230065 250494  37253 ... 274949 143113  23736]\n",
            "\n",
            "INFO:rflog:Tree index [28] build with the feature index [4, 6, 8] and data index [230065 250494  37253 ... 274949 143113  23736]\n",
            "\n",
            "INFO:rflog:Tree index [29] build with the feature index [4, 7, 1] and data index [230065 250494  37253 ... 274949 143113  23736]\n",
            "\n",
            "INFO:rflog:Tree index [30] build with the feature index [4, 1, 5] and data index [230065 250494  37253 ... 274949 143113  23736]\n",
            "\n",
            "INFO:rflog:Tree index [31] build with the feature index [4, 6, 5] and data index [230065 250494  37253 ... 274949 143113  23736]\n",
            "\n",
            "INFO:rflog:Tree index [32] build with the feature index [6, 2, 8] and data index [230065 250494  37253 ... 274949 143113  23736]\n",
            "\n",
            "INFO:rflog:Tree index [33] build with the feature index [0, 6, 4] and data index [230065 250494  37253 ... 274949 143113  23736]\n",
            "\n",
            "INFO:rflog:Tree index [34] build with the feature index [7, 4, 3] and data index [230065 250494  37253 ... 274949 143113  23736]\n",
            "\n",
            "INFO:rflog:Tree index [35] build with the feature index [2, 4, 3] and data index [230065 250494  37253 ... 274949 143113  23736]\n",
            "\n",
            "INFO:rflog:Tree index [36] build with the feature index [5, 4, 7] and data index [230065 250494  37253 ... 274949 143113  23736]\n",
            "\n",
            "INFO:rflog:Tree index [37] build with the feature index [7, 3, 8] and data index [230065 250494  37253 ... 274949 143113  23736]\n",
            "\n",
            "INFO:rflog:Tree index [38] build with the feature index [3, 7, 5] and data index [230065 250494  37253 ... 274949 143113  23736]\n",
            "\n",
            "INFO:rflog:Tree index [39] build with the feature index [1, 3, 5] and data index [230065 250494  37253 ... 274949 143113  23736]\n",
            "\n",
            "INFO:rflog:Tree index [40] build with the feature index [4, 3, 1] and data index [230065 250494  37253 ... 274949 143113  23736]\n",
            "\n",
            "INFO:rflog:Tree index [41] build with the feature index [3, 5, 0] and data index [230065 250494  37253 ... 274949 143113  23736]\n",
            "\n",
            "INFO:rflog:Tree index [43] build with the feature index [8, 5, 0] and data index [230065 250494  37253 ... 274949 143113  23736]\n",
            "\n",
            "INFO:rflog:Tree index [42] build with the feature index [5, 2, 1] and data index [230065 250494  37253 ... 274949 143113  23736]\n",
            "\n",
            "INFO:rflog:Tree index [44] build with the feature index [6, 8, 4] and data index [230065 250494  37253 ... 274949 143113  23736]\n",
            "\n",
            "INFO:rflog:Tree index [46] build with the feature index [8, 4, 3] and data index [230065 250494  37253 ... 274949 143113  23736]\n",
            "\n",
            "INFO:rflog:Tree index [45] build with the feature index [5, 7, 2] and data index [230065 250494  37253 ... 274949 143113  23736]\n",
            "\n",
            "INFO:rflog:Tree index [47] build with the feature index [6, 5, 4] and data index [230065 250494  37253 ... 274949 143113  23736]\n",
            "\n",
            "INFO:rflog:Tree index [48] build with the feature index [7, 6, 8] and data index [230065 250494  37253 ... 274949 143113  23736]\n",
            "\n",
            "INFO:rflog:Tree index [49] build with the feature index [1, 8, 0] and data index [230065 250494  37253 ... 274949 143113  23736]\n",
            "\n",
            "INFO:rflog:Tree index [50] build with the feature index [8, 1, 2] and data index [230065 250494  37253 ... 274949 143113  23736]\n",
            "\n",
            "INFO:rflog:Tree index [51] build with the feature index [3, 4, 6] and data index [230065 250494  37253 ... 274949 143113  23736]\n",
            "\n",
            "INFO:rflog:Tree index [52] build with the feature index [3, 5, 0] and data index [230065 250494  37253 ... 274949 143113  23736]\n",
            "\n",
            "INFO:rflog:Tree index [53] build with the feature index [5, 2, 4] and data index [230065 250494  37253 ... 274949 143113  23736]\n",
            "\n",
            "INFO:rflog:Tree index [54] build with the feature index [1, 4, 8] and data index [230065 250494  37253 ... 274949 143113  23736]\n",
            "\n",
            "INFO:rflog:Tree index [56] build with the feature index [5, 1, 8] and data index [230065 250494  37253 ... 274949 143113  23736]\n",
            "\n",
            "INFO:rflog:Tree index [55] build with the feature index [4, 2, 7] and data index [230065 250494  37253 ... 274949 143113  23736]\n",
            "\n",
            "INFO:rflog:Tree index [57] build with the feature index [6, 7, 0] and data index [230065 250494  37253 ... 274949 143113  23736]\n",
            "\n",
            "INFO:rflog:Tree index [58] build with the feature index [4, 1, 0] and data index [230065 250494  37253 ... 274949 143113  23736]\n",
            "\n",
            "INFO:rflog:Tree index [59] build with the feature index [5, 2, 1] and data index [230065 250494  37253 ... 274949 143113  23736]\n",
            "\n",
            "INFO:rflog:Tree index [60] build with the feature index [2, 4, 1] and data index [230065 250494  37253 ... 274949 143113  23736]\n",
            "\n",
            "INFO:rflog:Tree index [61] build with the feature index [1, 3, 8] and data index [230065 250494  37253 ... 274949 143113  23736]\n",
            "\n",
            "INFO:rflog:Tree index [63] build with the feature index [3, 0, 1] and data index [230065 250494  37253 ... 274949 143113  23736]\n",
            "\n",
            "INFO:rflog:Tree index [62] build with the feature index [1, 4, 3] and data index [230065 250494  37253 ... 274949 143113  23736]\n",
            "\n",
            "INFO:rflog:Tree index [64] build with the feature index [1, 7, 6] and data index [230065 250494  37253 ... 274949 143113  23736]\n",
            "\n",
            "INFO:rflog:Tree index [65] build with the feature index [3, 7, 0] and data index [230065 250494  37253 ... 274949 143113  23736]\n",
            "\n",
            "INFO:rflog:Tree index [67] build with the feature index [5, 3, 2] and data index [230065 250494  37253 ... 274949 143113  23736]\n",
            "\n",
            "INFO:rflog:Tree index [66] build with the feature index [5, 4, 0] and data index [230065 250494  37253 ... 274949 143113  23736]\n",
            "\n",
            "INFO:rflog:Tree index [68] build with the feature index [5, 1, 0] and data index [230065 250494  37253 ... 274949 143113  23736]\n",
            "\n",
            "INFO:rflog:Tree index [69] build with the feature index [3, 6, 2] and data index [230065 250494  37253 ... 274949 143113  23736]\n",
            "\n",
            "INFO:rflog:Tree index [70] build with the feature index [1, 7, 8] and data index [230065 250494  37253 ... 274949 143113  23736]\n",
            "\n",
            "INFO:rflog:Tree index [72] build with the feature index [6, 5, 2] and data index [230065 250494  37253 ... 274949 143113  23736]\n",
            "\n",
            "INFO:rflog:Tree index [71] build with the feature index [0, 5, 7] and data index [230065 250494  37253 ... 274949 143113  23736]\n",
            "\n",
            "INFO:rflog:Tree index [74] build with the feature index [3, 2, 1] and data index [230065 250494  37253 ... 274949 143113  23736]\n",
            "\n",
            "INFO:rflog:Tree index [73] build with the feature index [4, 1, 7] and data index [230065 250494  37253 ... 274949 143113  23736]\n",
            "\n",
            "INFO:rflog:Tree index [75] build with the feature index [6, 1, 4] and data index [230065 250494  37253 ... 274949 143113  23736]\n",
            "\n",
            "INFO:rflog:Tree index [77] build with the feature index [2, 8, 7] and data index [230065 250494  37253 ... 274949 143113  23736]\n",
            "\n",
            "INFO:rflog:Tree index [76] build with the feature index [5, 7, 0] and data index [230065 250494  37253 ... 274949 143113  23736]\n",
            "\n",
            "INFO:rflog:Tree index [79] build with the feature index [6, 3, 4] and data index [230065 250494  37253 ... 274949 143113  23736]\n",
            "\n",
            "INFO:rflog:Tree index [78] build with the feature index [7, 1, 0] and data index [230065 250494  37253 ... 274949 143113  23736]\n",
            "\n",
            "INFO:rflog:Tree index [80] build with the feature index [7, 3, 0] and data index [230065 250494  37253 ... 274949 143113  23736]\n",
            "\n",
            "INFO:rflog:Tree index [81] build with the feature index [8, 2, 6] and data index [230065 250494  37253 ... 274949 143113  23736]\n",
            "\n",
            "INFO:rflog:Tree index [82] build with the feature index [5, 2, 4] and data index [230065 250494  37253 ... 274949 143113  23736]\n",
            "\n",
            "INFO:rflog:Tree index [83] build with the feature index [2, 1, 4] and data index [230065 250494  37253 ... 274949 143113  23736]\n",
            "\n",
            "INFO:rflog:Tree index [84] build with the feature index [4, 3, 5] and data index [230065 250494  37253 ... 274949 143113  23736]\n",
            "\n",
            "INFO:rflog:Tree index [85] build with the feature index [3, 8, 1] and data index [230065 250494  37253 ... 274949 143113  23736]\n",
            "\n",
            "INFO:rflog:Tree index [86] build with the feature index [8, 6, 3] and data index [230065 250494  37253 ... 274949 143113  23736]\n",
            "\n",
            "INFO:rflog:Tree index [87] build with the feature index [7, 4, 8] and data index [230065 250494  37253 ... 274949 143113  23736]\n",
            "\n",
            "INFO:rflog:Tree index [88] build with the feature index [5, 3, 8] and data index [230065 250494  37253 ... 274949 143113  23736]\n",
            "\n",
            "INFO:rflog:Tree index [90] build with the feature index [7, 4, 8] and data index [230065 250494  37253 ... 274949 143113  23736]\n",
            "\n",
            "INFO:rflog:Tree index [89] build with the feature index [6, 1, 7] and data index [230065 250494  37253 ... 274949 143113  23736]\n",
            "\n",
            "INFO:rflog:Tree index [91] build with the feature index [0, 1, 7] and data index [230065 250494  37253 ... 274949 143113  23736]\n",
            "\n",
            "INFO:rflog:Tree index [92] build with the feature index [6, 8, 1] and data index [230065 250494  37253 ... 274949 143113  23736]\n",
            "\n",
            "INFO:rflog:Tree index [93] build with the feature index [0, 8, 7] and data index [230065 250494  37253 ... 274949 143113  23736]\n",
            "\n",
            "INFO:rflog:Tree index [94] build with the feature index [2, 5, 1] and data index [230065 250494  37253 ... 274949 143113  23736]\n",
            "\n",
            "INFO:rflog:Tree index [95] build with the feature index [8, 3, 7] and data index [230065 250494  37253 ... 274949 143113  23736]\n",
            "\n",
            "INFO:rflog:Tree index [97] build with the feature index [6, 2, 3] and data index [230065 250494  37253 ... 274949 143113  23736]\n",
            "\n",
            "INFO:rflog:Tree index [96] build with the feature index [7, 3, 1] and data index [230065 250494  37253 ... 274949 143113  23736]\n",
            "\n",
            "INFO:rflog:Tree index [98] build with the feature index [6, 8, 4] and data index [230065 250494  37253 ... 274949 143113  23736]\n",
            "\n",
            "INFO:rflog:Tree index [99] build with the feature index [8, 1, 6] and data index [230065 250494  37253 ... 274949 143113  23736]\n",
            "\n"
          ]
        },
        {
          "output_type": "stream",
          "name": "stdout",
          "text": [
            "Acc with oblique tree 0.57029\n"
          ]
        }
      ]
    },
    {
      "cell_type": "markdown",
      "source": [
        "Exemplo usando uma única arvore"
      ],
      "metadata": {
        "id": "ma0OhR2Vc3uG"
      }
    },
    {
      "cell_type": "code",
      "source": [
        "obtBUTIF = BUTIF()\n",
        "obtBUTIF.fit(X_train.to_numpy(copy=True), y_train.to_numpy(copy=True))\n",
        "\n",
        "y_pred = obtBUTIF.predict(X_test.to_numpy(copy=True))\n",
        "print(y_pred[:10])\n",
        "\n",
        "print('Acc with splitter = oc1', accuracy_score(y_test, y_pred))"
      ],
      "metadata": {
        "colab": {
          "base_uri": "https://localhost:8080/"
        },
        "id": "stTsIxcv-ldZ",
        "outputId": "71e66260-18ae-4da7-a41d-186f2a052a24"
      },
      "execution_count": null,
      "outputs": [
        {
          "output_type": "stream",
          "name": "stdout",
          "text": [
            "[1. 0. 1. 1. 0. 0. 0. 0. 1. 0.]\n"
          ]
        }
      ]
    },
    {
      "cell_type": "markdown",
      "source": [
        "Resultados do código a seguir executado em diversos parâmetros\n",
        "\n",
        "```\n",
        "max_leaf=5, linear_model=LinearRegression\n",
        "  Acc with oblique tree 0.5971328571428571\n",
        "  Acc with cart 0.6292342857142857\n",
        "max_leaf=10, linear_model=Ridge(alpha=1.0)\n",
        "  Acc with oblique tree 0.6039871428571428\n",
        "  Acc with cart 0.6290428571428571\n",
        "max_leaf=10, linear_model=RidgeCV(alphas=[1e-3, 1e-2, 1e-1, 1])\n",
        "  Acc with oblique tree 0.5917071428571429\n",
        "  Acc with cart 0.6292328571428571\n",
        "max_leaf=10, linear_model=SGDRegressor(max_iter=1000, tol=1e-3)\n",
        "  Acc with oblique tree 0.46980428571428573\n",
        "  Acc with cart 0.6291385714285714\n",
        "max_leaf=10, linear_model=LogisticRegression(random_state=0)\n",
        "  Acc with oblique tree 0.59707\n",
        "  Acc with cart 0.6292957142857143\n",
        "LogisticRegressionCV(cv=5, random_state=0)\n",
        "  Acc with oblique tree 0.5971171428571429\n",
        "  Acc with cart 0.6293728571428572\n",
        "max_leaf=10, linear_model=PassiveAggressiveClassifier(max_iter=1000, random_state=0, tol=1e-3)\n",
        "  Acc with oblique tree 0.51803\n",
        "  Acc with cart 0.6290214285714286\n",
        "max_leaf=10, linear_model=Perceptron(tol=1e-3, random_state=0)\n",
        "  Acc with oblique tree 0.5279828571428572\n",
        "  Acc with cart 0.6292471428571429\n",
        "max_leaf=10, linear_model=RidgeClassifier()\n",
        "  Acc with oblique tree 0.6039214285714286\n",
        "  Acc with cart 0.6288871428571429\n",
        "max_leaf=10, linear_model=RidgeClassifierCV(alphas=[1e-3, 1e-2, 1e-1, 1])\n",
        "  Acc with oblique tree 0.5828071428571429\n",
        "  Acc with cart 0.6292328571428571\n",
        "max_leaf=10, linear_model=SGDClassifier(max_iter=1000, tol=1e-3)\n",
        "  Acc with oblique tree 0.49336\n",
        "  Acc with cart 0.6292357142857142\n",
        "max_leaf=10, linear_model=ElasticNet(random_state=0)\n",
        "  Acc with oblique tree 0.6054371428571429\n",
        "  Acc with cart 0.6292271428571429\n",
        "max_leaf=10, linear_model=ElasticNetCV(cv=5, random_state=0)\n",
        "  Acc with oblique tree 0.60543\n",
        "  Acc with cart 0.6292757142857143\n",
        "max_leaf=10, linear_model=Lars(n_nonzero_coefs=1)\n",
        "  Acc with oblique tree 0.6060757142857143\n",
        "  Acc with cart 0.6292357142857142\n",
        "max_leaf=10, linear_model=LarsCV(cv=5)\n",
        "  Acc with oblique tree 0.60407\n",
        "  Acc with cart 0.6290957142857143\n",
        "max_leaf=10, linear_model=Lasso(alpha=0.1)\n",
        "  Acc with oblique tree 0.6051785714285715\n",
        "  Acc with cart 0.6291585714285715\n",
        "max_leaf=10, linear_model=LassoCV(cv=5, random_state=0)\n",
        "  Acc with oblique tree 0.6054314285714286\n",
        "  Acc with cart 0.6291157142857143\n",
        "max_leaf=10, linear_model=LassoLars(alpha=0.01)\n",
        "  Acc with oblique tree 0.5279442857142858\n",
        "  Acc with cart 0.6292385714285714\n",
        "LassoLarsCV(cv=5)\n",
        "  Acc with oblique tree 0.60399\n",
        "  Acc with cart 0.6292128571428571\n",
        "LassoLarsIC(criterion='bic')\n",
        "  Acc with oblique tree 0.60456\n",
        "  Acc with cart 0.6290042857142857\n",
        "max_leaf=10, linear_model=OrthogonalMatchingPursuit()\n",
        "  Acc with oblique tree 0.6064514285714285\n",
        "  Acc with cart 0.6293071428571428\n",
        "max_leaf=10, linear_model=OrthogonalMatchingPursuitCV(cv=5)\n",
        "  Acc with oblique tree 0.6040514285714286\n",
        "  Acc with cart 0.6290928571428571\n",
        "max_leaf=10, linear_model=ARDRegression()\n",
        "  Acc with oblique tree 0.5279442857142858\n",
        "  Acc with cart 0.62918\n",
        "max_leaf=10, linear_model=BayesianRidge()\n",
        "  Acc with oblique tree 0.60416\n",
        "  Acc with cart 0.6288814285714286\n",
        "max_leaf=10, linear_model=HuberRegressor()\n",
        "  Acc with oblique tree 0.5970928571428571\n",
        "  Acc with cart 0.6291871428571428\n",
        "max_leaf=10, linear_model=TweedieRegressor()\n",
        "  Acc with oblique tree 0.5970528571428572\n",
        "  Acc with cart 0.62895\n",
        "```\n",
        "\n",
        "\n"
      ],
      "metadata": {
        "id": "PtTCPEDgF-HN"
      }
    },
    {
      "cell_type": "code",
      "source": [
        "#from scikit_obliquetree.HHCART import HouseHolderCART\n",
        "#from scikit_obliquetree.segmentor import MSE, MeanSegmentor\n",
        "from sklearn.linear_model import Ridge, RidgeCV, SGDRegressor, LogisticRegression\n",
        "from sklearn.linear_model import LogisticRegressionCV, PassiveAggressiveClassifier\n",
        "from sklearn.linear_model import Perceptron, RidgeClassifier, RidgeClassifierCV\n",
        "from sklearn.linear_model import SGDClassifier, ElasticNet, ElasticNetCV\n",
        "from sklearn.linear_model import Lars, LarsCV, Lasso, LassoCV, LassoLars\n",
        "from sklearn.linear_model import LassoLarsCV, LassoLarsIC, OrthogonalMatchingPursuit\n",
        "from sklearn.linear_model import OrthogonalMatchingPursuitCV, ARDRegression\n",
        "from sklearn.linear_model import BayesianRidge, HuberRegressor, TweedieRegressor\n",
        "\n",
        "obliquetree = BUTIF(max_leaf=10, linear_model=LogisticRegression())\n",
        "obliquetree.fit(X_train.to_numpy(copy=True), y_train.to_numpy(copy=True))\n",
        "\n",
        "y_pred = obliquetree.predict(X_test.to_numpy(copy=True))\n",
        "\n",
        "print('Acc with oblique tree', accuracy_score(y_test, y_pred))\n",
        "\n",
        "cart = DecisionTreeClassifier()\n",
        "cart.fit(X_train, y_train)\n",
        "\n",
        "y_pred = cart.predict(X_test)\n",
        "\n",
        "print('Acc with cart', accuracy_score(y_test, y_pred))"
      ],
      "metadata": {
        "id": "ocOYpkQC2WsY"
      },
      "execution_count": null,
      "outputs": []
    },
    {
      "cell_type": "code",
      "source": [
        "for leaf in [3, 5, 10, 50, 100, 500, 1000]:\n",
        "  obliquetree = BUTIF(max_leaf=leaf, linear_model=LogisticRegression())\n",
        "  obliquetree.fit(X_train.to_numpy(copy=True), y_train.to_numpy(copy=True))\n",
        "\n",
        "  y_pred = obliquetree.predict(X_test.to_numpy(copy=True))\n",
        "  print('Acc with oblique tree and param max_leaf=', leaf, ' -> ', accuracy_score(y_test, y_pred))\n",
        "\n",
        "cart = DecisionTreeClassifier()\n",
        "cart.fit(X_train, y_train)\n",
        "\n",
        "y_pred = cart.predict(X_test)\n",
        "\n",
        "print('Acc with cart', accuracy_score(y_test, y_pred))"
      ],
      "metadata": {
        "colab": {
          "base_uri": "https://localhost:8080/"
        },
        "id": "GQViYdkTxSCL",
        "outputId": "483bfbf7-2cf7-404c-fa4e-b462768495b5"
      },
      "execution_count": null,
      "outputs": [
        {
          "output_type": "stream",
          "name": "stdout",
          "text": [
            "Acc with oblique tree and param max_leaf= 3  ->  0.5971357142857143\n",
            "Acc with oblique tree and param max_leaf= 5  ->  0.5971328571428571\n"
          ]
        },
        {
          "output_type": "stream",
          "name": "stderr",
          "text": [
            "/usr/local/lib/python3.8/dist-packages/sklearn/linear_model/_logistic.py:814: ConvergenceWarning: lbfgs failed to converge (status=1):\n",
            "STOP: TOTAL NO. of ITERATIONS REACHED LIMIT.\n",
            "\n",
            "Increase the number of iterations (max_iter) or scale the data as shown in:\n",
            "    https://scikit-learn.org/stable/modules/preprocessing.html\n",
            "Please also refer to the documentation for alternative solver options:\n",
            "    https://scikit-learn.org/stable/modules/linear_model.html#logistic-regression\n",
            "  n_iter_i = _check_optimize_result(\n"
          ]
        },
        {
          "output_type": "stream",
          "name": "stdout",
          "text": [
            "Acc with oblique tree and param max_leaf= 10  ->  0.5971314285714285\n"
          ]
        },
        {
          "output_type": "stream",
          "name": "stderr",
          "text": [
            "/usr/local/lib/python3.8/dist-packages/sklearn/linear_model/_logistic.py:814: ConvergenceWarning: lbfgs failed to converge (status=1):\n",
            "STOP: TOTAL NO. of ITERATIONS REACHED LIMIT.\n",
            "\n",
            "Increase the number of iterations (max_iter) or scale the data as shown in:\n",
            "    https://scikit-learn.org/stable/modules/preprocessing.html\n",
            "Please also refer to the documentation for alternative solver options:\n",
            "    https://scikit-learn.org/stable/modules/linear_model.html#logistic-regression\n",
            "  n_iter_i = _check_optimize_result(\n"
          ]
        },
        {
          "output_type": "stream",
          "name": "stdout",
          "text": [
            "Acc with oblique tree and param max_leaf= 50  ->  0.5971628571428571\n",
            "Acc with oblique tree and param max_leaf= 100  ->  0.5971514285714286\n",
            "Acc with oblique tree and param max_leaf= 500  ->  0.59707\n",
            "Acc with oblique tree and param max_leaf= 1000  ->  0.5971285714285715\n",
            "Acc with cart 0.62917\n"
          ]
        }
      ]
    },
    {
      "cell_type": "markdown",
      "source": [
        "Exemplo fornecido pelo desenvolvedor"
      ],
      "metadata": {
        "id": "oes0TD9ncrao"
      }
    },
    {
      "cell_type": "code",
      "source": [
        "from sklearn.datasets import load_boston\n",
        "from sklearn.ensemble import BaggingRegressor\n",
        "from sklearn.model_selection import cross_val_score\n",
        "\n",
        "from scikit_obliquetree.HHCART import HouseHolderCART\n",
        "from scikit_obliquetree.segmentor import MSE, MeanSegmentor\n",
        "\n",
        "X, y = load_boston(return_X_y=True)\n",
        "reg = BaggingRegressor(\n",
        "    HouseHolderCART(MSE(), MeanSegmentor(), max_depth=3),\n",
        "    n_estimators=100,\n",
        "    n_jobs=-1,\n",
        ")\n",
        "print('CV Score', cross_val_score(reg, X, y))"
      ],
      "metadata": {
        "colab": {
          "base_uri": "https://localhost:8080/"
        },
        "id": "w9MWyGfRSUFh",
        "outputId": "1e2e8053-f5cb-4c60-92b8-1ac72c3568ea"
      },
      "execution_count": null,
      "outputs": [
        {
          "output_type": "stream",
          "name": "stderr",
          "text": [
            "/usr/local/lib/python3.8/dist-packages/sklearn/utils/deprecation.py:87: FutureWarning: Function load_boston is deprecated; `load_boston` is deprecated in 1.0 and will be removed in 1.2.\n",
            "\n",
            "    The Boston housing prices dataset has an ethical problem. You can refer to\n",
            "    the documentation of this function for further details.\n",
            "\n",
            "    The scikit-learn maintainers therefore strongly discourage the use of this\n",
            "    dataset unless the purpose of the code is to study and educate about\n",
            "    ethical issues in data science and machine learning.\n",
            "\n",
            "    In this special case, you can fetch the dataset from the original\n",
            "    source::\n",
            "\n",
            "        import pandas as pd\n",
            "        import numpy as np\n",
            "\n",
            "\n",
            "        data_url = \"http://lib.stat.cmu.edu/datasets/boston\"\n",
            "        raw_df = pd.read_csv(data_url, sep=\"\\s+\", skiprows=22, header=None)\n",
            "        data = np.hstack([raw_df.values[::2, :], raw_df.values[1::2, :2]])\n",
            "        target = raw_df.values[1::2, 2]\n",
            "\n",
            "    Alternative datasets include the California housing dataset (i.e.\n",
            "    :func:`~sklearn.datasets.fetch_california_housing`) and the Ames housing\n",
            "    dataset. You can load the datasets as follows::\n",
            "\n",
            "        from sklearn.datasets import fetch_california_housing\n",
            "        housing = fetch_california_housing()\n",
            "\n",
            "    for the California housing dataset and::\n",
            "\n",
            "        from sklearn.datasets import fetch_openml\n",
            "        housing = fetch_openml(name=\"house_prices\", as_frame=True)\n",
            "\n",
            "    for the Ames housing dataset.\n",
            "    \n",
            "  warnings.warn(msg, category=FutureWarning)\n"
          ]
        },
        {
          "output_type": "stream",
          "name": "stdout",
          "text": [
            "CV Score [0.66407802 0.8114376  0.81217977 0.48209339 0.01114959]\n"
          ]
        }
      ]
    },
    {
      "cell_type": "code",
      "source": [],
      "metadata": {
        "id": "c2I62DkDRh7U"
      },
      "execution_count": null,
      "outputs": []
    }
  ]
}
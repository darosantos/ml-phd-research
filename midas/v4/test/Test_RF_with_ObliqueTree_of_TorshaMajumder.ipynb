{
  "nbformat": 4,
  "nbformat_minor": 0,
  "metadata": {
    "colab": {
      "provenance": []
    },
    "kernelspec": {
      "name": "python3",
      "display_name": "Python 3"
    },
    "language_info": {
      "name": "python"
    }
  },
  "cells": [
    {
      "cell_type": "markdown",
      "source": [
        "# **Test RF with ObliqueTree of TorshaMajumder**"
      ],
      "metadata": {
        "id": "zqK9bqSkFlrp"
      }
    },
    {
      "cell_type": "markdown",
      "source": [
        "https://github.com/valevalerio/Ensemble_Of_Oblique_Decision_Trees"
      ],
      "metadata": {
        "id": "F4L2ztVKFq5Q"
      }
    },
    {
      "cell_type": "code",
      "execution_count": null,
      "metadata": {
        "id": "EMLbIYm4FePw"
      },
      "outputs": [],
      "source": [
        "FOLDER_ROOT = '/content/drive/MyDrive/Testes e Experimentos/Testes/lib.external'\n",
        "import sys\n",
        "sys.path.append(FOLDER_ROOT)\n",
        "\n",
        "import pandas as pd\n",
        "\n",
        "import numpy as np\n",
        "\n",
        "from sklearn.model_selection import train_test_split\n",
        "from sklearn.metrics import accuracy_score\n",
        "from sklearn.tree import DecisionTreeClassifier\n",
        "from sklearn.preprocessing import OneHotEncoder"
      ]
    },
    {
      "cell_type": "code",
      "source": [
        "df_stream = pd.read_csv('https://github.com/scikit-multiflow/streaming-datasets/raw/master/agr_a.csv',\n",
        "                        engine='c', low_memory=True, memory_map=True)\n",
        "\n",
        "X = df_stream[df_stream.columns[:-1]]\n",
        "y = df_stream['class']\n",
        "\n",
        "X_train, X_test, y_train, y_test = train_test_split(X, y, test_size=0.70, random_state=100)"
      ],
      "metadata": {
        "id": "7AYfFevhGs-6"
      },
      "execution_count": null,
      "outputs": []
    },
    {
      "cell_type": "markdown",
      "source": [
        "Testa as árvores obliquas individualmente"
      ],
      "metadata": {
        "id": "Soz-CZ4LjGTR"
      }
    },
    {
      "cell_type": "code",
      "source": [
        "from TorshaMajumder.Decision_trees.CO2 import ContinuouslyOptimizedObliqueTree, CO2Classifier\n",
        "from TorshaMajumder.Decision_trees.segmentor import Twoing, MSE, MeanSegmentor\n",
        "from TorshaMajumder.Decision_trees.split_criteria import gini, twoing\n",
        "\n",
        "# Continuous Optimization of Oblique Splits (CO2) by [Norouzi et al.]\n",
        "# CO2Classifier(MSE(),MeanSegmentor(), max_depth=50, min_samples_split=2, nu=4.0, tau=10, tol=1e-3, eta=0.01)\n",
        "co2t = ContinuouslyOptimizedObliqueTree(impurity=MSE(),\n",
        "                                        segmentor=MeanSegmentor(), \n",
        "                                        max_depth=5,\n",
        "                                        min_samples_split=2,\n",
        "                                        nu=1.0,\n",
        "                                        tau=10,\n",
        "                                        tol=1e-3,\n",
        "                                        eta=0.1)\n",
        "\n",
        "co2t.fit(X_train.to_numpy(copy=True), y_train.to_numpy(copy=True))\n",
        "\n",
        "y_pred = co2t.predict(X_test.to_numpy(copy=True))\n",
        "\n",
        "print('Acc: ', accuracy_score(y_test, y_pred))"
      ],
      "metadata": {
        "colab": {
          "base_uri": "https://localhost:8080/"
        },
        "id": "wlVH8bjBGtUf",
        "outputId": "37c4e0a2-bf57-4c2a-cb53-78e90fd62199"
      },
      "execution_count": null,
      "outputs": [
        {
          "output_type": "stream",
          "name": "stdout",
          "text": [
            "Acc:  0.5279442857142858\n"
          ]
        }
      ]
    },
    {
      "cell_type": "code",
      "source": [
        "from TorshaMajumder.Decision_trees.HouseHolder_CART import HouseHolderCART, HHCartClassifier\n",
        "from TorshaMajumder.Decision_trees.segmentor import Twoing, MSE, MeanSegmentor\n",
        "from TorshaMajumder.Decision_trees.split_criteria import gini, twoing\n",
        "\n",
        "# HouseHolder CART-A by [Wickramarachchi et al.]\n",
        "# HHCartClassifier(MSE(),MeanSegmentor(), max_depth=50, min_samples_split=2, alpha=None))\n",
        "hhc = HouseHolderCART(impurity=MSE(),\n",
        "                      segmentor=MeanSegmentor(),\n",
        "                      max_depth=5,\n",
        "                      min_samples_split=2,\n",
        "                      method='eig',\n",
        "                      tau=10,\n",
        "                      alpha=None)\n",
        "hhc.fit(X_train.to_numpy(copy=True), y_train.to_numpy(copy=True))\n",
        "\n",
        "y_pred = hhc.predict(X_test.to_numpy(copy=True))\n",
        "\n",
        "print('Acc: ', accuracy_score(y_test, y_pred))"
      ],
      "metadata": {
        "colab": {
          "base_uri": "https://localhost:8080/"
        },
        "id": "QmiXg_5LVY3W",
        "outputId": "3911c87c-8d58-4c69-d2a4-4edda1a7fc3c"
      },
      "execution_count": null,
      "outputs": [
        {
          "output_type": "stream",
          "name": "stdout",
          "text": [
            "Acc:  0.6686614285714285\n"
          ]
        }
      ]
    },
    {
      "cell_type": "code",
      "source": [
        "from TorshaMajumder.Decision_trees.NDT import Oblique_Classifier_1\n",
        "from TorshaMajumder.Decision_trees.NDT import NDTClassifier\n",
        "from TorshaMajumder.Decision_trees.segmentor import Twoing, MSE, MeanSegmentor\n",
        "from TorshaMajumder.Decision_trees.split_criteria import gini, twoing\n",
        "\n",
        "# Non-Linear Decision Trees by [Ittner et al.]\n",
        "# \n",
        "ndtc = NDTClassifier(criterion=\"gini\",\n",
        "                     max_depth=3,\n",
        "                     min_samples_split=2,\n",
        "                     min_features_split=1)\n",
        "ndtc.fit(X_train.to_numpy(copy=True), y_train.to_numpy(copy=True))\n",
        "\n",
        "y_pred = ndtc.predict(X_test.to_numpy(copy=True))\n",
        "\n",
        "print('Acc: ', accuracy_score(y_test, y_pred))"
      ],
      "metadata": {
        "id": "Moan2UMUVcyO"
      },
      "execution_count": null,
      "outputs": []
    },
    {
      "cell_type": "code",
      "source": [
        "import TorshaMajumder.Decision_trees.OC1_tree_structure\n",
        "import TorshaMajumder.Decision_trees.Oblique_Classifier_1\n",
        "from TorshaMajumder.Decision_trees.NDT import NDTClassifier\n",
        "from TorshaMajumder.Decision_trees.segmentor import Twoing, MSE, MeanSegmentor\n",
        "from TorshaMajumder.Decision_trees.split_criteria import gini, twoing\n",
        "\n",
        "# Non-Linear Decision Trees by [Ittner et al.]\n",
        "# \n",
        "ndtc = NDTClassifier(criterion=\"gini\",\n",
        "                     max_depth=3,\n",
        "                     min_samples_split=2,\n",
        "                     min_features_split=1)\n",
        "ndtc.fit(X_train.to_numpy(copy=True), y_train.to_numpy(copy=True))\n",
        "\n",
        "y_pred = ndtc.predict(X_test.to_numpy(copy=True))\n",
        "\n",
        "print('Acc: ', accuracy_score(y_test, y_pred))"
      ],
      "metadata": {
        "id": "jndB7KR2oEty"
      },
      "execution_count": null,
      "outputs": []
    }
  ]
}
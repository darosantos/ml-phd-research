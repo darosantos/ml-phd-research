{
 "cells": [
  {
   "cell_type": "markdown",
   "metadata": {
    "id": "hu_r_lr_i7jM"
   },
   "source": [
    "# **Test RF with Mondrian Tree Classifier**"
   ]
  },
  {
   "cell_type": "markdown",
   "metadata": {
    "id": "tNHm106UiqC3"
   },
   "source": [
    "https://github.com/balajiln/mondrianforest/tree/\n",
    "\n",
    "https://scikit-garden.github.io/"
   ]
  },
  {
   "cell_type": "code",
   "execution_count": null,
   "metadata": {
    "id": "OxLJ29SgIl2Z"
   },
   "outputs": [],
   "source": [
    "#!pip install setuptools numpy scipy scikit-learn cython"
   ]
  },
  {
   "cell_type": "code",
   "execution_count": null,
   "metadata": {
    "id": "4AThHsw4Wmhc"
   },
   "outputs": [],
   "source": [
    "#!pip install scikit-garden"
   ]
  },
  {
   "cell_type": "code",
   "execution_count": 1,
   "metadata": {
    "executionInfo": {
     "elapsed": 726,
     "status": "ok",
     "timestamp": 1673885837447,
     "user": {
      "displayName": "Danilo Rodrigues dos Santos",
      "userId": "06614078507684583490"
     },
     "user_tz": 180
    },
    "id": "b9KAffqEit2F"
   },
   "outputs": [],
   "source": [
    "#FOLDERS= ['/content/drive/MyDrive/',\n",
    "#          '/content/drive/MyDrive/midas',\n",
    "#          '/content/drive/MyDrive/Testes e Experimentos/Testes/lib.external',\n",
    "#          '/content/drive/MyDrive/Testes e Experimentos/Testes/lib.external/MechCoder',\n",
    "#          '/content/drive/MyDrive/Testes e Experimentos/Testes/lib.external/MechCoder/skgarden'\n",
    "#        ]\n",
    "FOLDERS=['F:\\Github\\ml-phd-research',\n",
    "         'F:\\Github\\ml-phd-research\\midas',\n",
    "         'F:\\Github\\ml-phd-research\\midas\\v4']\n",
    "import sys\n",
    "for f in FOLDERS:\n",
    "  sys.path.append(f)\n",
    "\n",
    "import pandas as pd\n",
    "\n",
    "import numpy as np\n",
    "\n",
    "from sklearn.model_selection import train_test_split\n",
    "from sklearn.metrics import accuracy_score\n",
    "from sklearn.metrics import confusion_matrix\n",
    "from sklearn.tree import DecisionTreeClassifier\n",
    "\n",
    "from midas.v4.ensemble import RFClassifier"
   ]
  },
  {
   "cell_type": "code",
   "execution_count": 8,
   "metadata": {
    "executionInfo": {
     "elapsed": 2701,
     "status": "ok",
     "timestamp": 1673884900660,
     "user": {
      "displayName": "Danilo Rodrigues dos Santos",
      "userId": "06614078507684583490"
     },
     "user_tz": 180
    },
    "id": "nrBkDcONjLDW"
   },
   "outputs": [],
   "source": [
    "df_stream = pd.read_csv('https://github.com/scikit-multiflow/streaming-datasets/raw/master/agr_a.csv',\n",
    "                        engine='c', low_memory=True, memory_map=True)\n",
    "\n",
    "X = df_stream[df_stream.columns[:-1]]\n",
    "y = df_stream['class']\n",
    "\n",
    "X_train, X_test, y_train, y_test = train_test_split(X, y, test_size=0.70, random_state=100)"
   ]
  },
  {
   "cell_type": "markdown",
   "metadata": {
    "id": "pHe6VHuejOM9"
   },
   "source": [
    "## Testa as árvores individualmente"
   ]
  },
  {
   "cell_type": "code",
   "execution_count": 3,
   "metadata": {
    "colab": {
     "base_uri": "https://localhost:8080/",
     "height": 519
    },
    "executionInfo": {
     "elapsed": 314,
     "status": "error",
     "timestamp": 1673884903583,
     "user": {
      "displayName": "Danilo Rodrigues dos Santos",
      "userId": "06614078507684583490"
     },
     "user_tz": 180
    },
    "id": "DQ0nZvvRjQ0Y",
    "outputId": "9cf23eea-168a-4611-90a3-31644007b560"
   },
   "outputs": [
    {
     "name": "stdout",
     "output_type": "stream",
     "text": [
      "Acc with oblique tree 0.6057057142857143\n"
     ]
    }
   ],
   "source": [
    "from skgarden import MondrianTreeClassifier\n",
    "\n",
    "mtc = MondrianTreeClassifier(max_depth=3,\n",
    "                             min_samples_split=2,\n",
    "                             random_state=100)\n",
    "\n",
    "mtc = mtc.fit(X_train, y_train)\n",
    "\n",
    "y_pred = mtc.predict(X_test)\n",
    "\n",
    "print('Acc with oblique tree', accuracy_score(y_test, y_pred))"
   ]
  },
  {
   "cell_type": "markdown",
   "metadata": {},
   "source": [
    "## Testa as árvores com o RF"
   ]
  },
  {
   "cell_type": "code",
   "execution_count": 12,
   "metadata": {
    "executionInfo": {
     "elapsed": 9,
     "status": "aborted",
     "timestamp": 1673881462762,
     "user": {
      "displayName": "Danilo Rodrigues dos Santos",
      "userId": "06614078507684583490"
     },
     "user_tz": 180
    },
    "id": "LgcEkVgHD_5q"
   },
   "outputs": [
    {
     "name": "stdout",
     "output_type": "stream",
     "text": [
      "Acc with oblique tree 0.6072985714285715\n"
     ]
    }
   ],
   "source": [
    "from skgarden import MondrianTreeClassifier\n",
    "\n",
    "cfg_base_estimator = {'max_depth':9,\n",
    "                      'min_samples_split':2,\n",
    "                      'random_state':100}\n",
    "\n",
    "rf = RFClassifier(base_estimator=MondrianTreeClassifier,\n",
    "                  n_estimators=100,\n",
    "                  params_estimators=cfg_base_estimator,\n",
    "                  enable_logger=True)\n",
    "\n",
    "rf._setup_logger(log_file='./rf.mondriantree.debuging.log')\n",
    "\n",
    "rf = rf.fit(X_train, y_train)\n",
    "\n",
    "y_pred = rf.predict(X_test)\n",
    "\n",
    "print('Acc with oblique tree', accuracy_score(y_test, y_pred))"
   ]
  },
  {
   "cell_type": "code",
   "execution_count": null,
   "metadata": {},
   "outputs": [],
   "source": []
  }
 ],
 "metadata": {
  "colab": {
   "authorship_tag": "ABX9TyOhrVu/zdosY1xZN0jUcvWP",
   "mount_file_id": "1yiZjSoAX0ohB3uGDnq343FXhUfv3NlQV",
   "provenance": []
  },
  "kernelspec": {
   "display_name": "Python 3 (ipykernel)",
   "language": "python",
   "name": "python3"
  },
  "language_info": {
   "codemirror_mode": {
    "name": "ipython",
    "version": 3
   },
   "file_extension": ".py",
   "mimetype": "text/x-python",
   "name": "python",
   "nbconvert_exporter": "python",
   "pygments_lexer": "ipython3",
   "version": "3.7.2"
  },
  "varInspector": {
   "cols": {
    "lenName": 16,
    "lenType": 16,
    "lenVar": 40
   },
   "kernels_config": {
    "python": {
     "delete_cmd_postfix": "",
     "delete_cmd_prefix": "del ",
     "library": "var_list.py",
     "varRefreshCmd": "print(var_dic_list())"
    },
    "r": {
     "delete_cmd_postfix": ") ",
     "delete_cmd_prefix": "rm(",
     "library": "var_list.r",
     "varRefreshCmd": "cat(var_dic_list()) "
    }
   },
   "types_to_exclude": [
    "module",
    "function",
    "builtin_function_or_method",
    "instance",
    "_Feature"
   ],
   "window_display": false
  }
 },
 "nbformat": 4,
 "nbformat_minor": 1
}

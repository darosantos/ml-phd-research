{
 "cells": [
  {
   "cell_type": "code",
   "execution_count": 1,
   "metadata": {},
   "outputs": [],
   "source": [
    "FOLDER_ROOT = 'F:\\Github'"
   ]
  },
  {
   "cell_type": "code",
   "execution_count": 3,
   "metadata": {},
   "outputs": [],
   "source": [
    "from sklearn.metrics import accuracy_score, roc_auc_score\n",
    "from sklearn.preprocessing import StandardScaler\n",
    "from sklearn.impute import SimpleImputer\n",
    "from sklearn.model_selection import train_test_split\n",
    "from sklearn.ensemble import RandomForestClassifier\n",
    "from sklearn.tree import DecisionTreeClassifier, plot_tree\n",
    "\n",
    "import sys\n",
    "sys.path.append(FOLDER_ROOT)\n",
    "\n",
    "from sklearn.base import BaseEstimator\n",
    "from sklearn.metrics import accuracy_score\n",
    "from sklearn.metrics import cohen_kappa_score, f1_score, balanced_accuracy_score\n",
    "from sklearn.metrics import precision_score, recall_score, roc_auc_score\n",
    "from sklearn.preprocessing import LabelBinarizer\n",
    "\n",
    "from joblib import Parallel, delayed\n",
    "\n",
    "import numpy as np\n",
    "\n",
    "import pandas as pd\n",
    "\n",
    "import matplotlib.pyplot as plt\n",
    "\n",
    "from os import cpu_count\n",
    "\n",
    "from river import stats\n",
    "from river import synth\n",
    "from river import stream"
   ]
  },
  {
   "cell_type": "code",
   "execution_count": 5,
   "metadata": {},
   "outputs": [],
   "source": [
    "size=20000\n",
    "primary_stream = synth.AnomalySine(n_samples=size,\n",
    "                                   n_anomalies=250, #default\n",
    "                                   contextual=True,\n",
    "                                   n_contextual=250, #default\n",
    "                                   shift=4, #default\n",
    "                                   noise=0.5, #default\n",
    "                                   replace=True, #default\n",
    "                                   seed=100\n",
    ")\n",
    "second_stream = synth.AnomalySine(n_samples=size,\n",
    "                                  n_anomalies=470,\n",
    "                                  contextual=True,\n",
    "                                  n_contextual=250, #default\n",
    "                                  shift=9,\n",
    "                                  noise=0.8,\n",
    "                                  replace=True, #default\n",
    "                                  seed=200\n",
    ")\n",
    "\n",
    "df_stream = synth.ConceptDriftStream(stream=primary_stream,\n",
    "                                     drift_stream=second_stream,\n",
    "                                     position=2000,\n",
    "                                     width=1000,\n",
    "                                     seed=300,\n",
    "                                     alpha=None #default\n",
    ")\n",
    "\n",
    "all_stream = [np.append(list(X.values()), \n",
    "                        y) for X, y in df_stream.take(size)]\n",
    "\n",
    "df_stream = pd.DataFrame(all_stream, columns=['sine', 'cosine', 'target'])"
   ]
  },
  {
   "cell_type": "code",
   "execution_count": 6,
   "metadata": {},
   "outputs": [],
   "source": [
    "#df_stream = pd.read_csv('https://drive.google.com/u/0/uc?id=1XfWljItYj1oreR1azMlSIip0LIohRvRs&export=download',\n",
    "#                        engine='c', low_memory=True, memory_map=True)\n",
    "\n",
    "X = df_stream[df_stream.columns[:-1]]\n",
    "y = df_stream['target']\n",
    "#https://drive.google.com/file/d/1XfWljItYj1oreR1azMlSIip0LIohRvRs/view?usp=sharing"
   ]
  },
  {
   "cell_type": "code",
   "execution_count": 10,
   "metadata": {},
   "outputs": [
    {
     "data": {
      "text/plain": [
       "(20000, 2)"
      ]
     },
     "execution_count": 10,
     "metadata": {},
     "output_type": "execute_result"
    }
   ],
   "source": [
    "X.shape"
   ]
  },
  {
   "cell_type": "code",
   "execution_count": 11,
   "metadata": {},
   "outputs": [
    {
     "data": {
      "text/html": [
       "<div>\n",
       "<style scoped>\n",
       "    .dataframe tbody tr th:only-of-type {\n",
       "        vertical-align: middle;\n",
       "    }\n",
       "\n",
       "    .dataframe tbody tr th {\n",
       "        vertical-align: top;\n",
       "    }\n",
       "\n",
       "    .dataframe thead th {\n",
       "        text-align: right;\n",
       "    }\n",
       "</style>\n",
       "<table border=\"1\" class=\"dataframe\">\n",
       "  <thead>\n",
       "    <tr style=\"text-align: right;\">\n",
       "      <th></th>\n",
       "      <th>sine</th>\n",
       "      <th>cosine</th>\n",
       "      <th>target</th>\n",
       "    </tr>\n",
       "  </thead>\n",
       "  <tbody>\n",
       "    <tr>\n",
       "      <th>0</th>\n",
       "      <td>-0.874883</td>\n",
       "      <td>1.756533</td>\n",
       "      <td>0.0</td>\n",
       "    </tr>\n",
       "    <tr>\n",
       "      <th>1</th>\n",
       "      <td>0.418744</td>\n",
       "      <td>1.317549</td>\n",
       "      <td>0.0</td>\n",
       "    </tr>\n",
       "    <tr>\n",
       "      <th>2</th>\n",
       "      <td>1.055943</td>\n",
       "      <td>0.016559</td>\n",
       "      <td>0.0</td>\n",
       "    </tr>\n",
       "    <tr>\n",
       "      <th>3</th>\n",
       "      <td>0.555421</td>\n",
       "      <td>0.490936</td>\n",
       "      <td>0.0</td>\n",
       "    </tr>\n",
       "    <tr>\n",
       "      <th>4</th>\n",
       "      <td>1.332131</td>\n",
       "      <td>0.952837</td>\n",
       "      <td>0.0</td>\n",
       "    </tr>\n",
       "  </tbody>\n",
       "</table>\n",
       "</div>"
      ],
      "text/plain": [
       "       sine    cosine  target\n",
       "0 -0.874883  1.756533     0.0\n",
       "1  0.418744  1.317549     0.0\n",
       "2  1.055943  0.016559     0.0\n",
       "3  0.555421  0.490936     0.0\n",
       "4  1.332131  0.952837     0.0"
      ]
     },
     "execution_count": 11,
     "metadata": {},
     "output_type": "execute_result"
    }
   ],
   "source": [
    "df_stream.head()"
   ]
  },
  {
   "cell_type": "code",
   "execution_count": 12,
   "metadata": {},
   "outputs": [
    {
     "name": "stdout",
     "output_type": "stream",
     "text": [
      "List columns:\n",
      "['sine', 'cosine', 'target']\n",
      "Labels:\n",
      "{0.0, 1.0}\n"
     ]
    }
   ],
   "source": [
    "print('List columns:')\n",
    "print(list(df_stream.columns))\n",
    "print('Labels:')\n",
    "print(set(y))"
   ]
  },
  {
   "cell_type": "code",
   "execution_count": 7,
   "metadata": {},
   "outputs": [],
   "source": [
    "X = df_stream[df_stream.columns[:-1]]\n",
    "y = df_stream['target']\n",
    "\n",
    "X_train = X[:1200].values\n",
    "y_train = y[:1200].values\n",
    "X_test = X[12000:].values\n",
    "y_test = y[12000:].values\n",
    "\n",
    "y_train = y_train.astype(int)\n",
    "y_test = y_test.astype(int)\n",
    "\n",
    "x_columns = X.columns"
   ]
  },
  {
   "cell_type": "code",
   "execution_count": 16,
   "metadata": {},
   "outputs": [
    {
     "name": "stdout",
     "output_type": "stream",
     "text": [
      "X_train\n",
      " [-0.87488274  1.75653304]\n",
      "Entro:  0\n",
      "Xi:  {'sine': -0.8748827365273487}\n",
      "Entro:  0.0\n",
      "Entro:  0.0\n",
      "Entro:  0.6365141012487197\n",
      "Entro:  1.0397206708484008\n"
     ]
    }
   ],
   "source": [
    "entro = stats.Entropy(alpha=1)\n",
    "print(\"X_train\\n\", X_train[0])\n",
    "print('Entro: ', entro.get())\n",
    "xi = {x_columns[0]: X_train[0][0]}\n",
    "print('Xi: ', xi)\n",
    "entro.update(X_train[0][0])\n",
    "print('Entro: ', entro.get())\n",
    "\n",
    "print('Entro: ', entro.update(X_train[0][0]).get())\n",
    "print('Entro: ', entro.update(X_train[1][0]).get())\n",
    "print('Entro: ', entro.update(X_train[2][0]).get())\n",
    "\n"
   ]
  },
  {
   "cell_type": "code",
   "execution_count": 28,
   "metadata": {},
   "outputs": [
    {
     "name": "stdout",
     "output_type": "stream",
     "text": [
      "\n",
      "Random Forest (with 100 trees) trained.\n",
      "Score within of training data =  1.0\n"
     ]
    }
   ],
   "source": [
    "clf_rf = RandomForestClassifier(n_estimators=100,\n",
    "                                criterion='entropy',\n",
    "                                max_features='auto',\n",
    "                                bootstrap=True,\n",
    "                                oob_score=True,\n",
    "                                random_state=42,\n",
    "                                warm_start=True,\n",
    "                                n_jobs=-1\n",
    ")\n",
    "clf_rf = clf_rf.fit(X_train, y_train)\n",
    "print(\"\\nRandom Forest (with 100 trees) trained.\")\n",
    "print('Score within of training data = ', clf_rf.score(X_train, y_train))"
   ]
  },
  {
   "cell_type": "code",
   "execution_count": 29,
   "metadata": {},
   "outputs": [
    {
     "name": "stdout",
     "output_type": "stream",
     "text": [
      "Y pred shape:  (8000,)\n",
      "Acc natural:  0.969375\n"
     ]
    }
   ],
   "source": [
    "y_pred = clf_rf.predict(X_test)\n",
    "acc = accuracy_score(y_test, y_pred)\n",
    "\n",
    "print('Y pred shape: ', y_pred.shape)\n",
    "print('Acc natural: ', acc)"
   ]
  },
  {
   "cell_type": "code",
   "execution_count": 30,
   "metadata": {},
   "outputs": [],
   "source": [
    "dt0 = clf_rf.estimators_[0]"
   ]
  },
  {
   "cell_type": "code",
   "execution_count": 31,
   "metadata": {},
   "outputs": [
    {
     "name": "stdout",
     "output_type": "stream",
     "text": [
      "Y pred shape:  (8000,)\n",
      "Acc natural:  0.957375\n"
     ]
    }
   ],
   "source": [
    "y_pred = dt0.predict(X_test)\n",
    "acc = accuracy_score(y_test, y_pred)\n",
    "\n",
    "print('Y pred shape: ', y_pred.shape)\n",
    "print('Acc natural: ', acc)"
   ]
  },
  {
   "cell_type": "code",
   "execution_count": 8,
   "metadata": {},
   "outputs": [
    {
     "ename": "NameError",
     "evalue": "name 'entro' is not defined",
     "output_type": "error",
     "traceback": [
      "\u001b[1;31m---------------------------------------------------------------------------\u001b[0m",
      "\u001b[1;31mNameError\u001b[0m                                 Traceback (most recent call last)",
      "\u001b[1;32m<ipython-input-8-42905f8927db>\u001b[0m in \u001b[0;36m<module>\u001b[1;34m\u001b[0m\n\u001b[0;32m      1\u001b[0m \u001b[1;31m# calcula o vetor de entropia para o atributo 1\u001b[0m\u001b[1;33m\u001b[0m\u001b[1;33m\u001b[0m\u001b[1;33m\u001b[0m\u001b[0m\n\u001b[1;32m----> 2\u001b[1;33m \u001b[0mentropy_sine\u001b[0m \u001b[1;33m=\u001b[0m \u001b[0mnp\u001b[0m\u001b[1;33m.\u001b[0m\u001b[0marray\u001b[0m\u001b[1;33m(\u001b[0m\u001b[1;33m[\u001b[0m\u001b[0mentro\u001b[0m\u001b[1;33m.\u001b[0m\u001b[0mupdate\u001b[0m\u001b[1;33m(\u001b[0m\u001b[0mXi\u001b[0m\u001b[1;33m[\u001b[0m\u001b[1;36m0\u001b[0m\u001b[1;33m]\u001b[0m\u001b[1;33m)\u001b[0m\u001b[1;33m.\u001b[0m\u001b[0mget\u001b[0m\u001b[1;33m(\u001b[0m\u001b[1;33m)\u001b[0m \u001b[1;32mfor\u001b[0m \u001b[0mXi\u001b[0m \u001b[1;32min\u001b[0m \u001b[0mX_test\u001b[0m\u001b[1;33m]\u001b[0m\u001b[1;33m)\u001b[0m\u001b[1;33m\u001b[0m\u001b[1;33m\u001b[0m\u001b[0m\n\u001b[0m\u001b[0;32m      3\u001b[0m \u001b[1;31m# calcula o vetor de entropia para o atributo 2\u001b[0m\u001b[1;33m\u001b[0m\u001b[1;33m\u001b[0m\u001b[1;33m\u001b[0m\u001b[0m\n\u001b[0;32m      4\u001b[0m \u001b[0mentropy_cosine\u001b[0m \u001b[1;33m=\u001b[0m \u001b[0mnp\u001b[0m\u001b[1;33m.\u001b[0m\u001b[0marray\u001b[0m\u001b[1;33m(\u001b[0m\u001b[1;33m[\u001b[0m\u001b[0mentro\u001b[0m\u001b[1;33m.\u001b[0m\u001b[0mupdate\u001b[0m\u001b[1;33m(\u001b[0m\u001b[0mXi\u001b[0m\u001b[1;33m[\u001b[0m\u001b[1;36m1\u001b[0m\u001b[1;33m]\u001b[0m\u001b[1;33m)\u001b[0m\u001b[1;33m.\u001b[0m\u001b[0mget\u001b[0m\u001b[1;33m(\u001b[0m\u001b[1;33m)\u001b[0m \u001b[1;32mfor\u001b[0m \u001b[0mXi\u001b[0m \u001b[1;32min\u001b[0m \u001b[0mX_test\u001b[0m\u001b[1;33m]\u001b[0m\u001b[1;33m)\u001b[0m\u001b[1;33m\u001b[0m\u001b[1;33m\u001b[0m\u001b[0m\n\u001b[0;32m      5\u001b[0m \u001b[1;33m\u001b[0m\u001b[0m\n",
      "\u001b[1;32m<ipython-input-8-42905f8927db>\u001b[0m in \u001b[0;36m<listcomp>\u001b[1;34m(.0)\u001b[0m\n\u001b[0;32m      1\u001b[0m \u001b[1;31m# calcula o vetor de entropia para o atributo 1\u001b[0m\u001b[1;33m\u001b[0m\u001b[1;33m\u001b[0m\u001b[1;33m\u001b[0m\u001b[0m\n\u001b[1;32m----> 2\u001b[1;33m \u001b[0mentropy_sine\u001b[0m \u001b[1;33m=\u001b[0m \u001b[0mnp\u001b[0m\u001b[1;33m.\u001b[0m\u001b[0marray\u001b[0m\u001b[1;33m(\u001b[0m\u001b[1;33m[\u001b[0m\u001b[0mentro\u001b[0m\u001b[1;33m.\u001b[0m\u001b[0mupdate\u001b[0m\u001b[1;33m(\u001b[0m\u001b[0mXi\u001b[0m\u001b[1;33m[\u001b[0m\u001b[1;36m0\u001b[0m\u001b[1;33m]\u001b[0m\u001b[1;33m)\u001b[0m\u001b[1;33m.\u001b[0m\u001b[0mget\u001b[0m\u001b[1;33m(\u001b[0m\u001b[1;33m)\u001b[0m \u001b[1;32mfor\u001b[0m \u001b[0mXi\u001b[0m \u001b[1;32min\u001b[0m \u001b[0mX_test\u001b[0m\u001b[1;33m]\u001b[0m\u001b[1;33m)\u001b[0m\u001b[1;33m\u001b[0m\u001b[1;33m\u001b[0m\u001b[0m\n\u001b[0m\u001b[0;32m      3\u001b[0m \u001b[1;31m# calcula o vetor de entropia para o atributo 2\u001b[0m\u001b[1;33m\u001b[0m\u001b[1;33m\u001b[0m\u001b[1;33m\u001b[0m\u001b[0m\n\u001b[0;32m      4\u001b[0m \u001b[0mentropy_cosine\u001b[0m \u001b[1;33m=\u001b[0m \u001b[0mnp\u001b[0m\u001b[1;33m.\u001b[0m\u001b[0marray\u001b[0m\u001b[1;33m(\u001b[0m\u001b[1;33m[\u001b[0m\u001b[0mentro\u001b[0m\u001b[1;33m.\u001b[0m\u001b[0mupdate\u001b[0m\u001b[1;33m(\u001b[0m\u001b[0mXi\u001b[0m\u001b[1;33m[\u001b[0m\u001b[1;36m1\u001b[0m\u001b[1;33m]\u001b[0m\u001b[1;33m)\u001b[0m\u001b[1;33m.\u001b[0m\u001b[0mget\u001b[0m\u001b[1;33m(\u001b[0m\u001b[1;33m)\u001b[0m \u001b[1;32mfor\u001b[0m \u001b[0mXi\u001b[0m \u001b[1;32min\u001b[0m \u001b[0mX_test\u001b[0m\u001b[1;33m]\u001b[0m\u001b[1;33m)\u001b[0m\u001b[1;33m\u001b[0m\u001b[1;33m\u001b[0m\u001b[0m\n\u001b[0;32m      5\u001b[0m \u001b[1;33m\u001b[0m\u001b[0m\n",
      "\u001b[1;31mNameError\u001b[0m: name 'entro' is not defined"
     ]
    }
   ],
   "source": [
    "# calcula o vetor de entropia para o atributo 1\n",
    "entropy_sine = np.array([entro.update(Xi[0]).get() for Xi in X_test])\n",
    "# calcula o vetor de entropia para o atributo 2\n",
    "entropy_cosine = np.array([entro.update(Xi[1]).get() for Xi in X_test])\n",
    "\n",
    "print(\"Entropy Sine Shape: \", entropy_sine.shape)\n",
    "print(\"Entropy Cosine Shape: \", entropy_cosine.shape)\n",
    "\n",
    "entropy_sum = entropy_sine + entropy_cosine\n",
    "entropy_min = entropy_sine - entropy_cosine\n",
    "\n",
    "print('Entropy Sum Attr: ', entropy_sum.shape)\n",
    "\n",
    "score = dt0.score(X_test, y_test, sample_weight=entropy_sum)\n",
    "score1 = dt0.score(X_test, y_test, sample_weight=entropy_sine)\n",
    "score2 = dt0.score(X_test, y_test, sample_weight=entropy_cosine)\n",
    "score3 = dt0.score(X_test, y_test, sample_weight=entropy_min)\n",
    "\n",
    "print('Score: ', score)\n",
    "print('Score 1: ', score1)\n",
    "print('Score 2: ', score2)\n",
    "print('Score 3: ', score3)\n",
    "\n",
    "fi = dt0.feature_importances_\n",
    "print('Feature Importance: ', fi)\n",
    "\n",
    "entropy_pond = (entropy_sine * fi[0]) + (entropy_cosine * fi[1])\n",
    "\n",
    "score4 = dt0.score(X_test, y_test, sample_weight=entropy_pond)\n",
    "print('Score 4: ', score4)\n",
    "\n",
    "fator = 1 / np.sum(entropy_pond)\n",
    "entropy_reg = entropy_pond * fator\n",
    "\n",
    "score5 = dt0.score(X_test, y_test, sample_weight=entropy_reg)\n",
    "print('Score 5: ', score5)\n",
    "\n",
    "fator = 1 / np.sum(entropy_sine)\n",
    "entropy_sine_f = entropy_sine * fator\n",
    "\n",
    "fator = 1 / np.sum(entropy_cosine)\n",
    "entropy_cosine_f = entropy_cosine * fator\n",
    "\n",
    "entropy_sum_f = entropy_sine_f + entropy_cosine_f\n",
    "\n",
    "score6 = dt0.score(X_test, y_test, sample_weight=entropy_sum_f)\n",
    "print('Score 6: ', score6)\n",
    "\n",
    "entropy_pond_f = (entropy_sine_f * fi[0]) + (entropy_cosine_f * fi[1])\n",
    "\n",
    "score7 = dt0.score(X_test, y_test, sample_weight=entropy_pond_f)\n",
    "print('Score 7: ', score7)\n",
    "\n",
    "entropy_pond_f2 = ((1-entropy_sine_f) * fi[0]) + ((1-entropy_cosine_f) * fi[1])\n",
    "score8 = dt0.score(X_test, y_test, sample_weight=entropy_pond_f2)\n",
    "print('Score 8: ', score8)"
   ]
  },
  {
   "cell_type": "code",
   "execution_count": 69,
   "metadata": {},
   "outputs": [
    {
     "name": "stdout",
     "output_type": "stream",
     "text": [
      "Shape entropy sine:  (8000,)\n",
      "Shape entropy cosine:  (8000,)\n",
      "Feature importance:  [0.264655185303923, 0.7353448146960769]\n",
      "Score 9: 0.9576044919124431\n"
     ]
    }
   ],
   "source": [
    "#from sklearn.preprocessing import normalize\n",
    "\n",
    "print('Shape entropy sine: ', entropy_sine.shape)\n",
    "print('Shape entropy cosine: ', entropy_cosine.shape)\n",
    "\n",
    "#entropy_sine_norm = Normalizer(norm='l1').fit_transform(entropy_sine)\n",
    "#entropy_cosine_norm = Normalizer(norm='l1').fit_transform(entropy_cosine)\n",
    "\n",
    "# usando z score (Xi - media) / desvio padrão\n",
    "mean_entropy_sine = np.mean(entropy_sine)\n",
    "std_entropy_sine = np.std(entropy_sine)\n",
    "entropy_sine_norm = (entropy_sine - mean_entropy_sine) / std_entropy_sine\n",
    "\n",
    "mean_entropy_cosine = np.mean(entropy_cosine)\n",
    "std_entropy_cosine = np.std(entropy_cosine)\n",
    "entropy_cosine_norm = (entropy_cosine - mean_entropy_cosine) / std_entropy_cosine\n",
    "\n",
    "fi = dt0.feature_importances_ \n",
    "print('Feature importance: ', list(fi))\n",
    "\n",
    "entropy_pond_norm = ((1-entropy_sine_norm) * fi[0]) + ((1-entropy_cosine_norm) * fi[1])\n",
    "score9 = dt0.score(X_test, y_test, sample_weight=entropy_pond_norm)\n",
    "\n",
    "print('Score 9:', score9)"
   ]
  },
  {
   "cell_type": "code",
   "execution_count": 72,
   "metadata": {},
   "outputs": [
    {
     "name": "stdout",
     "output_type": "stream",
     "text": [
      "Shape entropy sine:  (8000,)\n",
      "Shape entropy cosine:  (8000,)\n",
      "Feature importance:  [0.264655185303923, 0.7353448146960769]\n",
      "Score 10: 0.9575043921251362\n"
     ]
    }
   ],
   "source": [
    "print('Shape entropy sine: ', entropy_sine.shape)\n",
    "print('Shape entropy cosine: ', entropy_cosine.shape)\n",
    "\n",
    "# usando minx-max (Xi - xmin) / (xmax - xmin)\n",
    "max_entropy_sine = np.max(entropy_sine)\n",
    "min_entropy_sine = np.min(entropy_sine)\n",
    "entropy_sine_minmax = (entropy_sine - min_entropy_sine) / (max_entropy_sine - min_entropy_sine)\n",
    "\n",
    "max_entropy_cosine = np.max(entropy_cosine)\n",
    "min_entropy_cosine = np.min(entropy_cosine)\n",
    "entropy_cosine_minmax = (entropy_cosine - min_entropy_cosine) / (max_entropy_cosine - min_entropy_cosine)\n",
    "\n",
    "fi = dt0.feature_importances_ \n",
    "print('Feature importance: ', list(fi))\n",
    "\n",
    "entropy_pond_minmax = ((1-entropy_sine_minmax) * fi[0]) + ((1-entropy_cosine_minmax) * fi[1])\n",
    "score10 = dt0.score(X_test, y_test, sample_weight=entropy_pond_minmax)\n",
    "\n",
    "print('Score 10:', score10)"
   ]
  },
  {
   "cell_type": "code",
   "execution_count": 73,
   "metadata": {},
   "outputs": [
    {
     "name": "stdout",
     "output_type": "stream",
     "text": [
      "Proporcional\n",
      "Sine 0:  0.00012504718147916748\n",
      "Cosine 0:  0.00012504029010748497\n",
      "\n",
      "Normalizado Z-Score\n",
      "Sine 0:  1.7723197826391262\n",
      "Cosine 0:  1.7740830137145667\n",
      "\n",
      "Normalizado Min-Max\n",
      "Sine 0:  1.0\n",
      "Cosine 0:  1.0\n"
     ]
    }
   ],
   "source": [
    "print('Proporcional')\n",
    "print('Sine 0: ', entropy_sine_f[0])\n",
    "print('Cosine 0: ', entropy_cosine_f[0])\n",
    "\n",
    "print('')\n",
    "\n",
    "print('Normalizado Z-Score')\n",
    "print('Sine 0: ', entropy_sine_norm[0])\n",
    "print('Cosine 0: ', entropy_cosine_norm[0])\n",
    "\n",
    "print('')\n",
    "\n",
    "print('Normalizado Min-Max')\n",
    "print('Sine 0: ', entropy_sine_minmax[0])\n",
    "print('Cosine 0: ', entropy_cosine_minmax[0])"
   ]
  },
  {
   "cell_type": "code",
   "execution_count": 47,
   "metadata": {},
   "outputs": [
    {
     "name": "stdout",
     "output_type": "stream",
     "text": [
      "Antes:  10.204988383702862\n",
      "Depois:  0.00012509220743098598\n"
     ]
    }
   ],
   "source": [
    "print('Antes: ', entropy_pond[0])\n",
    "print('Depois: ', ((1 / np.sum(entropy_pond)) * entropy_pond[0]))"
   ]
  },
  {
   "cell_type": "code",
   "execution_count": 46,
   "metadata": {},
   "outputs": [
    {
     "data": {
      "text/plain": [
       "0.00012509220743098598"
      ]
     },
     "execution_count": 46,
     "metadata": {},
     "output_type": "execute_result"
    }
   ],
   "source": [
    "entropy_reg[0]"
   ]
  },
  {
   "cell_type": "code",
   "execution_count": 50,
   "metadata": {},
   "outputs": [
    {
     "data": {
      "text/plain": [
       "0.00012507364885243832"
      ]
     },
     "execution_count": 50,
     "metadata": {},
     "output_type": "execute_result"
    }
   ],
   "source": [
    "entropy_pond_f[0]"
   ]
  },
  {
   "cell_type": "code",
   "execution_count": null,
   "metadata": {},
   "outputs": [],
   "source": []
  },
  {
   "cell_type": "code",
   "execution_count": null,
   "metadata": {},
   "outputs": [],
   "source": []
  },
  {
   "cell_type": "code",
   "execution_count": 9,
   "metadata": {},
   "outputs": [
    {
     "name": "stdout",
     "output_type": "stream",
     "text": [
      "10000\n"
     ]
    }
   ],
   "source": [
    "entropy_sine = [entro.update(Xi[0]).get() for Xi in X.values]\n",
    "print(len(entropy_sine))"
   ]
  },
  {
   "cell_type": "code",
   "execution_count": 10,
   "metadata": {},
   "outputs": [
    {
     "name": "stdout",
     "output_type": "stream",
     "text": [
      "10000\n"
     ]
    }
   ],
   "source": [
    "entropy_cosine = [entro.update(Xi[1]).get() for Xi in X.values]\n",
    "print(len(entropy_cosine))"
   ]
  },
  {
   "cell_type": "code",
   "execution_count": 11,
   "metadata": {},
   "outputs": [
    {
     "name": "stdout",
     "output_type": "stream",
     "text": [
      "10000\n"
     ]
    }
   ],
   "source": [
    "entropy_target = [entro.update(Xi).get() for Xi in y]\n",
    "print(len(entropy_target))"
   ]
  },
  {
   "cell_type": "code",
   "execution_count": 12,
   "metadata": {},
   "outputs": [],
   "source": [
    "entropy_attrsum = np.array(entropy_sine) + np.array(entropy_cosine)\n",
    "entropy_allsum = np.array(entropy_sine) + np.array(entropy_cosine) + np.array(entropy_target)"
   ]
  },
  {
   "cell_type": "code",
   "execution_count": 13,
   "metadata": {},
   "outputs": [],
   "source": [
    "n_class = np.unique(y).astype(int)\n",
    "probabilitys = {}\n",
    "for i in n_class:\n",
    "    probabilitys[i] = []\n",
    "    probabilitys= [[((y[:(i+1)] == ni_class).sum()/(i+1)) for i in range(y.shape[0])] for ni_class in n_class]"
   ]
  },
  {
   "cell_type": "code",
   "execution_count": null,
   "metadata": {},
   "outputs": [],
   "source": []
  },
  {
   "cell_type": "code",
   "execution_count": 15,
   "metadata": {},
   "outputs": [],
   "source": []
  },
  {
   "cell_type": "code",
   "execution_count": 16,
   "metadata": {},
   "outputs": [
    {
     "data": {
      "image/png": "[encoded data removed]",
      "text/plain": [
       "<Figure size 1440x576 with 1 Axes>"
      ]
     },
     "metadata": {
      "needs_background": "light"
     },
     "output_type": "display_data"
    }
   ],
   "source": [
    "fig, axs = plt.subplots(figsize=(20,8))\n",
    "\n",
    "fig.suptitle('Explored Entropy')\n",
    "\n",
    "axs.plot(range(len(entropy_sine)), entropy_sine, label='Attr Sine')\n",
    "\n",
    "axs.plot(range(len(entropy_cosine)), entropy_cosine, label='Attr Cosine')\n",
    "\n",
    "axs.plot(range(len(entropy_target)), entropy_target, label='Attr Target')\n",
    "\n",
    "axs.set(xlabel='Ni instances', ylabel='Entropy')\n",
    "#axs[0].set(ylim=(0.0, 1.0))\n",
    "axs.grid()\n",
    "axs.legend()\n",
    "plt.show();"
   ]
  },
  {
   "cell_type": "code",
   "execution_count": 17,
   "metadata": {},
   "outputs": [
    {
     "data": {
      "image/png": "[encoded data removed]",
      "text/plain": [
       "<Figure size 1440x576 with 1 Axes>"
      ]
     },
     "metadata": {
      "needs_background": "light"
     },
     "output_type": "display_data"
    }
   ],
   "source": [
    "fig, axs = plt.subplots(figsize=(20,8))\n",
    "\n",
    "fig.suptitle('Explored Entropy')\n",
    "\n",
    "axs.plot(range(entropy_attrsum.shape[0]), entropy_attrsum, label='Attr Sum')\n",
    "\n",
    "axs.plot(range(entropy_allsum.shape[0]), entropy_allsum, label='All Sum')\n",
    "\n",
    "axs.set(xlabel='Ni instances', ylabel='Entropy')\n",
    "#axs[0].set(ylim=(0.0, 1.0))\n",
    "axs.grid()\n",
    "axs.legend()\n",
    "plt.show();"
   ]
  },
  {
   "cell_type": "code",
   "execution_count": 18,
   "metadata": {},
   "outputs": [
    {
     "data": {
      "image/png": "[encoded data removed]",
      "text/plain": [
       "<Figure size 1440x576 with 1 Axes>"
      ]
     },
     "metadata": {
      "needs_background": "light"
     },
     "output_type": "display_data"
    }
   ],
   "source": [
    "fig, axs = plt.subplots(figsize=(20,8))\n",
    "\n",
    "fig.suptitle('Explored Entropy')\n",
    "\n",
    "axs.plot(range(len(probabilitys[0])), probabilitys[0], color='#FF1493', label='Class 0')\n",
    "\n",
    "axs.plot(range(len(probabilitys[1])), probabilitys[1], color='#000080', label='Class 1')\n",
    "\n",
    "axs.set(xlabel='Ni instances', ylabel='Probability')\n",
    "axs.grid()\n",
    "axs.legend()\n",
    "\n",
    "plt.show();"
   ]
  },
  {
   "cell_type": "code",
   "execution_count": 23,
   "metadata": {},
   "outputs": [],
   "source": []
  },
  {
   "cell_type": "code",
   "execution_count": 24,
   "metadata": {
    "collapsed": true
   },
   "outputs": [
    {
     "data": {
      "text/plain": [
       "array([0., 1., 2., 3., 4.])"
      ]
     },
     "execution_count": 24,
     "metadata": {},
     "output_type": "execute_result"
    }
   ],
   "source": []
  },
  {
   "cell_type": "code",
   "execution_count": 4,
   "metadata": {},
   "outputs": [
    {
     "name": "stdout",
     "output_type": "stream",
     "text": [
      "Media n=5:  7.0\n",
      "Media n=6:  8.333333333333334\n",
      "Media n=7:  9.428571428571429\n",
      "Media n=8:  10.5\n",
      "\n",
      "Desvio padrão n=5:  3.1622776601683795\n",
      "Desvio padrão n=6:  4.149966532662911\n",
      "Desvio padrão n=7:  4.686062704816207\n",
      "Desvio padrão n=8:  5.220153254455275\n"
     ]
    }
   ],
   "source": [
    "vetor = [2,5,8,9,11,15,16,18]\n",
    "print('Media n=5: ', np.mean(vetor[:5]))\n",
    "print('Media n=6: ', np.mean(vetor[:6]))\n",
    "print('Media n=7: ', np.mean(vetor[:7]))\n",
    "print('Media n=8: ', np.mean(vetor[:8]))\n",
    "print('')\n",
    "print('Desvio padrão n=5: ', np.std(vetor[:5]))\n",
    "print('Desvio padrão n=6: ', np.std(vetor[:6]))\n",
    "print('Desvio padrão n=7: ', np.std(vetor[:7]))\n",
    "print('Desvio padrão n=8: ', np.std(vetor[:8]))"
   ]
  },
  {
   "cell_type": "code",
   "execution_count": 41,
   "metadata": {},
   "outputs": [
    {
     "name": "stdout",
     "output_type": "stream",
     "text": [
      "Z-score a:  [nan, 1.0, 1.224744871391589, 1.3416407864998738, 1.414213562373095]\n",
      "Z-score B:  [-1.414213562373095, -0.7071067811865475, 0.0, 0.7071067811865475, 1.414213562373095]\n"
     ]
    },
    {
     "name": "stderr",
     "output_type": "stream",
     "text": [
      "C:\\Users\\Danilo Santos\\AppData\\Local\\Programs\\Python\\Python37\\lib\\site-packages\\ipykernel_launcher.py:2: RuntimeWarning: invalid value encountered in double_scalars\n",
      "  \n"
     ]
    }
   ],
   "source": [
    "df = {'a': [1,2,3,4,5],'B': [6,7,8,9,10]}\n",
    "za = (df['a'] - np.mean(df['a'])) / np.std(df['a'])\n",
    "print('Z-score a: ', list(za))\n",
    "zB = (df['B'] - np.mean(df['B'])) / np.std(df['B'])\n",
    "print('Z-score B: ', list(zB))"
   ]
  },
  {
   "cell_type": "code",
   "execution_count": 30,
   "metadata": {},
   "outputs": [],
   "source": [
    "df = [{'a': 1, 'B': 6},\n",
    "      {'a': 2, 'B': 7},\n",
    "      {'a': 3, 'B': 8},\n",
    "      {'a': 4, 'B': 9},\n",
    "      {'a': 5, 'B': 10}]"
   ]
  },
  {
   "cell_type": "code",
   "execution_count": 34,
   "metadata": {},
   "outputs": [],
   "source": [
    "from midas.v3.normalizer import OnlineNormalizer\n",
    "\n",
    "myNorm = OnlineNormalizer()\n",
    "_ = [myNorm.learn_one(Xi) for Xi in df]"
   ]
  },
  {
   "cell_type": "code",
   "execution_count": 38,
   "metadata": {},
   "outputs": [
    {
     "name": "stdout",
     "output_type": "stream",
     "text": [
      "3.0\n"
     ]
    }
   ],
   "source": []
  },
  {
   "cell_type": "code",
   "execution_count": 6,
   "metadata": {
    "scrolled": true
   },
   "outputs": [
    {
     "name": "stdout",
     "output_type": "stream",
     "text": [
      "2.0\n",
      "3.5\n",
      "5.0\n",
      "6.0\n",
      "7.0\n",
      "8.333333333333334\n",
      "9.428571428571429\n",
      "10.5\n",
      "0.0\n",
      "1.5\n",
      "2.449489742783178\n",
      "2.7386127875258306\n",
      "3.1622776601683795\n",
      "4.14996653266291\n",
      "4.686062704816207\n",
      "5.2201532544552744\n"
     ]
    }
   ],
   "source": [
    "from midas.v3.stats import OnlineStats\n",
    "sos = OnlineStats()\n",
    "for Xi in vetor:\n",
    "    print(sos.update(Xi).get('mean'))\n",
    "    \n",
    "sos = OnlineStats() #**{'ddof': 0, \"n_observations\": 1, 'mean': 1}\n",
    "for Xi in vetor:\n",
    "    print(sos.update(Xi).get('std'))\n",
    "\n",
    "del sos"
   ]
  },
  {
   "cell_type": "code",
   "execution_count": 86,
   "metadata": {},
   "outputs": [
    {
     "name": "stdout",
     "output_type": "stream",
     "text": [
      "Len:  5\n",
      "Vetor:  [2, 5, 8, 9, 11]\n",
      "m5:  7.0\n",
      "ma:  [-5. -2.  1.  2.  4.]\n",
      "mp:  [25.  4.  1.  4. 16.]\n",
      "ms:  50.0\n",
      "mn:  10.0\n",
      "mr:  3.1622776601683795\n"
     ]
    }
   ],
   "source": [
    "print('Len: ', len(vetor[:5]))\n",
    "print('Vetor: ', vetor[:5])\n",
    "# calcula a media -> mean(X)\n",
    "m5 = np.mean(vetor[:5])\n",
    "print('m5: ', m5)\n",
    "# subtrai a média de cada elemento do vetor -> Xi - mean(X)\n",
    "ma = vetor[:5] - m5\n",
    "print('ma: ', ma)\n",
    "# Eleva o quadro o resultado anterior -> (Xi-mean(X))^2 \n",
    "mp = np.power(ma, 2)\n",
    "print('mp: ', mp)\n",
    "# Soma o vetor inteiro -> sum((Xi-mean(X))^2)\n",
    "ms = np.sum(mp)\n",
    "print('ms: ', ms)\n",
    "# Divide pelo tamanho do vetor -> sum((Xi-mean(X))^2) / n\n",
    "mn = ms / 5\n",
    "print('mn: ', mn)\n",
    "# Calcula a raiz quadrada -> sqrt(sum((Xi-mean(X))^2) / n)\n",
    "mr = np.sqrt(mn)\n",
    "print('mr: ', mr)"
   ]
  },
  {
   "cell_type": "code",
   "execution_count": 87,
   "metadata": {},
   "outputs": [
    {
     "data": {
      "text/plain": [
       "3.1622776601683795"
      ]
     },
     "execution_count": 87,
     "metadata": {},
     "output_type": "execute_result"
    }
   ],
   "source": [
    "np.sqrt(np.sum(np.power((vetor[:5]-np.mean(vetor[:5])),2)/len(vetor[:5])))"
   ]
  },
  {
   "cell_type": "code",
   "execution_count": 91,
   "metadata": {},
   "outputs": [
    {
     "data": {
      "text/plain": [
       "0.4383447302409138"
      ]
     },
     "execution_count": 91,
     "metadata": {},
     "output_type": "execute_result"
    }
   ],
   "source": [
    "3.16 - np.sqrt(np.power((15-np.mean(vetor[:6])),2)/6)"
   ]
  },
  {
   "cell_type": "code",
   "execution_count": 92,
   "metadata": {},
   "outputs": [
    {
     "data": {
      "text/plain": [
       "3.6006223904092933"
      ]
     },
     "execution_count": 92,
     "metadata": {},
     "output_type": "execute_result"
    }
   ],
   "source": [
    "3.1622776601683795 + 0.4383447302409138"
   ]
  },
  {
   "cell_type": "code",
   "execution_count": 101,
   "metadata": {},
   "outputs": [],
   "source": [
    "class OnlineVariance(object):\n",
    "    \"\"\"\n",
    "    Welford's algorithm computes the sample variance incrementally.\n",
    "    \"\"\"\n",
    "\n",
    "    def __init__(self, iterable=None, ddof=1):\n",
    "        self.ddof, self.n, self.mean, self.M2 = ddof, 0, 0.0, 0.0\n",
    "        if iterable is not None:\n",
    "            for datum in iterable:\n",
    "                self.include(datum)\n",
    "\n",
    "    def include(self, datum):\n",
    "        self.n += 1\n",
    "        self.delta = datum - self.mean\n",
    "        self.mean += self.delta / self.n\n",
    "        self.M2 += self.delta * (datum - self.mean)\n",
    "\n",
    "    @property\n",
    "    def variance(self):\n",
    "        return self.M2 / (self.n - self.ddof)\n",
    "\n",
    "    @property\n",
    "    def std(self):\n",
    "        return np.sqrt(self.variance)"
   ]
  },
  {
   "cell_type": "code",
   "execution_count": 5,
   "metadata": {
    "collapsed": true
   },
   "outputs": [
    {
     "ename": "NameError",
     "evalue": "name 'OnlineVariance' is not defined",
     "output_type": "error",
     "traceback": [
      "\u001b[1;31m---------------------------------------------------------------------------\u001b[0m",
      "\u001b[1;31mNameError\u001b[0m                                 Traceback (most recent call last)",
      "\u001b[1;32m<ipython-input-5-33bac2724def>\u001b[0m in \u001b[0;36m<module>\u001b[1;34m\u001b[0m\n\u001b[1;32m----> 1\u001b[1;33m \u001b[0msor\u001b[0m \u001b[1;33m=\u001b[0m \u001b[0mOnlineVariance\u001b[0m\u001b[1;33m(\u001b[0m\u001b[0mddof\u001b[0m\u001b[1;33m=\u001b[0m\u001b[1;36m0\u001b[0m\u001b[1;33m)\u001b[0m\u001b[1;33m\u001b[0m\u001b[1;33m\u001b[0m\u001b[0m\n\u001b[0m\u001b[0;32m      2\u001b[0m \u001b[1;32mfor\u001b[0m \u001b[0mXi\u001b[0m \u001b[1;32min\u001b[0m \u001b[0mvetor\u001b[0m\u001b[1;33m:\u001b[0m\u001b[1;33m\u001b[0m\u001b[1;33m\u001b[0m\u001b[0m\n\u001b[0;32m      3\u001b[0m     \u001b[0msor\u001b[0m\u001b[1;33m.\u001b[0m\u001b[0minclude\u001b[0m\u001b[1;33m(\u001b[0m\u001b[0mXi\u001b[0m\u001b[1;33m)\u001b[0m\u001b[1;33m\u001b[0m\u001b[1;33m\u001b[0m\u001b[0m\n\u001b[0;32m      4\u001b[0m     \u001b[0mprint\u001b[0m\u001b[1;33m(\u001b[0m\u001b[1;34m'Std: '\u001b[0m\u001b[1;33m,\u001b[0m \u001b[0msor\u001b[0m\u001b[1;33m.\u001b[0m\u001b[0mstd\u001b[0m\u001b[1;33m)\u001b[0m\u001b[1;33m\u001b[0m\u001b[1;33m\u001b[0m\u001b[0m\n",
      "\u001b[1;31mNameError\u001b[0m: name 'OnlineVariance' is not defined"
     ]
    }
   ],
   "source": [
    "sor = OnlineVariance(ddof=0)\n",
    "for Xi in vetor:\n",
    "    sor.include(Xi)\n",
    "    print('Std: ', sor.std)"
   ]
  },
  {
   "cell_type": "code",
   "execution_count": 111,
   "metadata": {},
   "outputs": [
    {
     "name": "stdout",
     "output_type": "stream",
     "text": [
      "é list\n",
      "é np\n"
     ]
    }
   ],
   "source": [
    "from collections.abc import Iterable\n",
    "\n",
    "e = 10\n",
    "if isinstance(e, Iterable):\n",
    "    print('é 10')\n",
    "    \n",
    "e = [1,2]\n",
    "if isinstance(e, Iterable):\n",
    "    print('é list')\n",
    "    \n",
    "e = np.array([4,5.6,7])\n",
    "if isinstance(e, Iterable):\n",
    "    print('é np')"
   ]
  },
  {
   "cell_type": "code",
   "execution_count": 98,
   "metadata": {},
   "outputs": [
    {
     "name": "stdout",
     "output_type": "stream",
     "text": [
      "15\n"
     ]
    }
   ],
   "source": [
    "cont = 0\n",
    "def count(xi):\n",
    "    global cont\n",
    "    cont += xi\n",
    "\n",
    "[count(j) for j in [1,2,3,4,5]]\n",
    "\n",
    "print(cont)"
   ]
  },
  {
   "cell_type": "code",
   "execution_count": 9,
   "metadata": {},
   "outputs": [
    {
     "data": {
      "text/plain": [
       "False"
      ]
     },
     "execution_count": 9,
     "metadata": {},
     "output_type": "execute_result"
    }
   ],
   "source": [
    "type(1.0) is int"
   ]
  },
  {
   "cell_type": "code",
   "execution_count": 10,
   "metadata": {},
   "outputs": [
    {
     "name": "stdout",
     "output_type": "stream",
     "text": [
      "dict_items([('a', 1), ('b', 2), ('c', 3), ('d', 4)])\n"
     ]
    }
   ],
   "source": [
    "a = {'a': 1, 'b': 2, 'c': 3, 'd': 4}\n",
    "print(a.items())"
   ]
  },
  {
   "cell_type": "code",
   "execution_count": 9,
   "metadata": {},
   "outputs": [
    {
     "data": {
      "text/plain": [
       "{'at1': 1}"
      ]
     },
     "metadata": {},
     "output_type": "display_data"
    },
    {
     "name": "stdout",
     "output_type": "stream",
     "text": [
      "dict_keys(['at1'])\n"
     ]
    }
   ],
   "source": [
    "b = {}\n",
    "b['at1'] = 1\n",
    "display(b)\n",
    "print(b.keys())"
   ]
  },
  {
   "cell_type": "code",
   "execution_count": 10,
   "metadata": {},
   "outputs": [
    {
     "data": {
      "text/plain": [
       "True"
      ]
     },
     "execution_count": 10,
     "metadata": {},
     "output_type": "execute_result"
    }
   ],
   "source": [
    "isinstance(b, dict)"
   ]
  },
  {
   "cell_type": "code",
   "execution_count": 11,
   "metadata": {},
   "outputs": [
    {
     "data": {
      "text/plain": [
       "{'a': 1, 'b': 2, 'c': 3}"
      ]
     },
     "execution_count": 11,
     "metadata": {},
     "output_type": "execute_result"
    }
   ],
   "source": [
    "dict(zip(['a','b','c'], [1,2,3]))"
   ]
  },
  {
   "cell_type": "code",
   "execution_count": 12,
   "metadata": {},
   "outputs": [
    {
     "name": "stdout",
     "output_type": "stream",
     "text": [
      "[1, 2, 3, 4, 5]\n"
     ]
    }
   ],
   "source": [
    "c = [1,2,3,4]\n",
    "c.append(5)\n",
    "print(c)"
   ]
  },
  {
   "cell_type": "code",
   "execution_count": 45,
   "metadata": {},
   "outputs": [],
   "source": [
    "dt = {'a': [1,2,3,4,5], 'b': [6,7,8,9,10]}"
   ]
  },
  {
   "cell_type": "code",
   "execution_count": 46,
   "metadata": {},
   "outputs": [
    {
     "data": {
      "text/plain": [
       "{'a': [1, 2, 3, 4, 5], 'b': [6, 7, 8, 9, 10]}"
      ]
     },
     "execution_count": 46,
     "metadata": {},
     "output_type": "execute_result"
    }
   ],
   "source": [
    "dt"
   ]
  },
  {
   "cell_type": "code",
   "execution_count": 47,
   "metadata": {},
   "outputs": [
    {
     "data": {
      "text/plain": [
       "dict"
      ]
     },
     "execution_count": 47,
     "metadata": {},
     "output_type": "execute_result"
    }
   ],
   "source": [
    "type(dt)"
   ]
  },
  {
   "cell_type": "code",
   "execution_count": 104,
   "metadata": {},
   "outputs": [
    {
     "name": "stdout",
     "output_type": "stream",
     "text": [
      "{'a': [{'a': 1}, {'a': 2}, {'a': 3}, {'a': 4}, {'a': 5}], 'b': [{'b': 6}, {'b': 7}, {'b': 8}, {'b': 9}, {'b': 10}]}\n"
     ]
    }
   ],
   "source": [
    "tmp = {}\n",
    "for k in dt.keys():\n",
    "    tmp[k] = [{k: v} for v in dt[k]]\n",
    "print(tmp)"
   ]
  },
  {
   "cell_type": "code",
   "execution_count": 89,
   "metadata": {},
   "outputs": [
    {
     "name": "stdout",
     "output_type": "stream",
     "text": [
      "2 5\n"
     ]
    }
   ],
   "source": [
    "l, c = len(list(tmp.values())), len(list(tmp.values())[0])\n",
    "print(l, c)\n",
    "\n",
    "tpm = []\n",
    "values = list(tmp.values())\n",
    "for i in range(c):\n",
    "    tpm.append([values[j][i] for j in range(l)])"
   ]
  },
  {
   "cell_type": "code",
   "execution_count": 90,
   "metadata": {},
   "outputs": [
    {
     "data": {
      "text/plain": [
       "[[{'a': 1}, {'b': 6}],\n",
       " [{'a': 2}, {'b': 7}],\n",
       " [{'a': 3}, {'b': 8}],\n",
       " [{'a': 4}, {'b': 9}],\n",
       " [{'a': 5}, {'b': 10}]]"
      ]
     },
     "execution_count": 90,
     "metadata": {},
     "output_type": "execute_result"
    }
   ],
   "source": [
    "tpm"
   ]
  },
  {
   "cell_type": "code",
   "execution_count": 102,
   "metadata": {},
   "outputs": [
    {
     "name": "stdout",
     "output_type": "stream",
     "text": [
      "[{'a': 1, 'b': 6}, {'a': 2, 'b': 7}, {'a': 3, 'b': 8}, {'a': 4, 'b': 9}, {'a': 5, 'b': 10}]\n"
     ]
    }
   ],
   "source": [
    "tpx = []\n",
    "for x in tpm:\n",
    "    tpd = {}\n",
    "    for d in x:\n",
    "        k = list(d.keys())[0]\n",
    "        v = list(d.values())[0]\n",
    "        tpd[k] = v\n",
    "    tpx.append(tpd)\n",
    "\n",
    "print(tpx)"
   ]
  },
  {
   "cell_type": "code",
   "execution_count": 113,
   "metadata": {},
   "outputs": [
    {
     "name": "stdout",
     "output_type": "stream",
     "text": [
      "2\n",
      "5\n"
     ]
    }
   ],
   "source": [
    "print(len(dt.keys()))\n",
    "print(len(list(dt.values())[0]))"
   ]
  },
  {
   "cell_type": "code",
   "execution_count": 124,
   "metadata": {},
   "outputs": [
    {
     "name": "stdout",
     "output_type": "stream",
     "text": [
      "[[{'a': 1}, {'a': 2}, {'a': 3}, {'a': 4}, {'a': 5}], [{'b': 6}, {'b': 7}, {'b': 8}, {'b': 9}, {'b': 10}]]\n",
      "{'a': 1}\n",
      "{'b': 6}\n",
      "[{'a': 1, 'b': 6}, {'a': 2, 'b': 7}, {'a': 3, 'b': 8}, {'a': 4, 'b': 9}, {'a': 5, 'b': 10}]\n"
     ]
    }
   ],
   "source": [
    "# 1ª Otimização\n",
    "tmp = {}\n",
    "#for k in dt.keys():\n",
    "#    tmp[k] = [{k: v} for v in dt[k]]\n",
    "l, c = len(dt.keys()), len(list(dt.values())[0])\n",
    "tmp = [[{k: v} for v in dt[k]] for k in dt.keys()]\n",
    "print(tmp)\n",
    "\n",
    "print(tmp[0][0])\n",
    "print(tmp[1][0])\n",
    "\n",
    "#tpx = []\n",
    "#for ic in range(c):\n",
    "#    tpd = {}\n",
    "#    for il in range(l):\n",
    "#        k = list(tmp[il][ic].keys())[0]\n",
    "#        v = list(tmp[il][ic].values())[0]\n",
    "#        tpd[k] = v\n",
    "#    tpx.append(tpd)\n",
    "\n",
    "tpx = [{list(tmp[il][ic].keys())[0]:list(tmp[il][ic].values())[0] for il in range(l)} for ic in range(c)]\n",
    "print(tpx)\n",
    "\n",
    "#tpx = []\n",
    "#for x in tmp:\n",
    "#    tpd = {}\n",
    "#    for d in x:\n",
    "#        k = list(d.keys())[0]\n",
    "#        v = list(d.values())[0]\n",
    "#        tpd[k] = v\n",
    "#    tpx.append(tpd)\n",
    "\n",
    "#print(tpx)"
   ]
  },
  {
   "cell_type": "code",
   "execution_count": null,
   "metadata": {},
   "outputs": [],
   "source": [
    "# 2ª Otimização\n",
    "tmp = {}\n",
    "l, c = len(dt.keys()), len(list(dt.values())[0])\n",
    "tmp = [[{k: v} for v in dt[k]] for k in dt.keys()]\n",
    "print(tmp)\n",
    "\n",
    "print(tmp[0][0])\n",
    "print(tmp[1][0])\n",
    "\n",
    "tpx = [{list(tmp[il][ic].keys())[0]:list(tmp[il][ic].values())[0] for il in range(l)} for ic in range(c)]\n",
    "print(tpx)\n"
   ]
  },
  {
   "cell_type": "code",
   "execution_count": null,
   "metadata": {},
   "outputs": [],
   "source": []
  },
  {
   "cell_type": "code",
   "execution_count": 134,
   "metadata": {},
   "outputs": [
    {
     "data": {
      "text/plain": [
       "[('a', 1), ('a', 2), ('a', 3), ('a', 4), ('a', 5)]"
      ]
     },
     "execution_count": 134,
     "metadata": {},
     "output_type": "execute_result"
    }
   ],
   "source": []
  },
  {
   "cell_type": "code",
   "execution_count": 123,
   "metadata": {},
   "outputs": [
    {
     "name": "stdout",
     "output_type": "stream",
     "text": [
      "{'0': 0, '1': 2, '2': 4, '3': 6, '4': 8}\n"
     ]
    }
   ],
   "source": [
    "lot = {str(i):i*2 for i in range(5)}\n",
    "print(lot)"
   ]
  },
  {
   "cell_type": "code",
   "execution_count": 86,
   "metadata": {},
   "outputs": [
    {
     "data": {
      "text/plain": [
       "[[{'a': 1}, {'a': 2}, {'a': 3}, {'a': 4}, {'a': 5}],\n",
       " [{'b': 6}, {'b': 7}, {'b': 8}, {'b': 9}, {'b': 10}]]"
      ]
     },
     "execution_count": 86,
     "metadata": {},
     "output_type": "execute_result"
    }
   ],
   "source": [
    "list(tmp.values())"
   ]
  },
  {
   "cell_type": "code",
   "execution_count": 88,
   "metadata": {},
   "outputs": [
    {
     "data": {
      "text/plain": [
       "{'a': 1}"
      ]
     },
     "execution_count": 88,
     "metadata": {},
     "output_type": "execute_result"
    }
   ],
   "source": [
    "list(tmp.values())[0][0]"
   ]
  },
  {
   "cell_type": "code",
   "execution_count": 49,
   "metadata": {},
   "outputs": [
    {
     "name": "stdout",
     "output_type": "stream",
     "text": [
      "Help on class dict in module builtins:\n",
      "\n",
      "class dict(object)\n",
      " |  dict() -> new empty dictionary\n",
      " |  dict(mapping) -> new dictionary initialized from a mapping object's\n",
      " |      (key, value) pairs\n",
      " |  dict(iterable) -> new dictionary initialized as if via:\n",
      " |      d = {}\n",
      " |      for k, v in iterable:\n",
      " |          d[k] = v\n",
      " |  dict(**kwargs) -> new dictionary initialized with the name=value pairs\n",
      " |      in the keyword argument list.  For example:  dict(one=1, two=2)\n",
      " |  \n",
      " |  Methods defined here:\n",
      " |  \n",
      " |  __contains__(self, key, /)\n",
      " |      True if the dictionary has the specified key, else False.\n",
      " |  \n",
      " |  __delitem__(self, key, /)\n",
      " |      Delete self[key].\n",
      " |  \n",
      " |  __eq__(self, value, /)\n",
      " |      Return self==value.\n",
      " |  \n",
      " |  __ge__(self, value, /)\n",
      " |      Return self>=value.\n",
      " |  \n",
      " |  __getattribute__(self, name, /)\n",
      " |      Return getattr(self, name).\n",
      " |  \n",
      " |  __getitem__(...)\n",
      " |      x.__getitem__(y) <==> x[y]\n",
      " |  \n",
      " |  __gt__(self, value, /)\n",
      " |      Return self>value.\n",
      " |  \n",
      " |  __init__(self, /, *args, **kwargs)\n",
      " |      Initialize self.  See help(type(self)) for accurate signature.\n",
      " |  \n",
      " |  __iter__(self, /)\n",
      " |      Implement iter(self).\n",
      " |  \n",
      " |  __le__(self, value, /)\n",
      " |      Return self<=value.\n",
      " |  \n",
      " |  __len__(self, /)\n",
      " |      Return len(self).\n",
      " |  \n",
      " |  __lt__(self, value, /)\n",
      " |      Return self<value.\n",
      " |  \n",
      " |  __ne__(self, value, /)\n",
      " |      Return self!=value.\n",
      " |  \n",
      " |  __repr__(self, /)\n",
      " |      Return repr(self).\n",
      " |  \n",
      " |  __setitem__(self, key, value, /)\n",
      " |      Set self[key] to value.\n",
      " |  \n",
      " |  __sizeof__(...)\n",
      " |      D.__sizeof__() -> size of D in memory, in bytes\n",
      " |  \n",
      " |  clear(...)\n",
      " |      D.clear() -> None.  Remove all items from D.\n",
      " |  \n",
      " |  copy(...)\n",
      " |      D.copy() -> a shallow copy of D\n",
      " |  \n",
      " |  get(self, key, default=None, /)\n",
      " |      Return the value for key if key is in the dictionary, else default.\n",
      " |  \n",
      " |  items(...)\n",
      " |      D.items() -> a set-like object providing a view on D's items\n",
      " |  \n",
      " |  keys(...)\n",
      " |      D.keys() -> a set-like object providing a view on D's keys\n",
      " |  \n",
      " |  pop(...)\n",
      " |      D.pop(k[,d]) -> v, remove specified key and return the corresponding value.\n",
      " |      If key is not found, d is returned if given, otherwise KeyError is raised\n",
      " |  \n",
      " |  popitem(...)\n",
      " |      D.popitem() -> (k, v), remove and return some (key, value) pair as a\n",
      " |      2-tuple; but raise KeyError if D is empty.\n",
      " |  \n",
      " |  setdefault(self, key, default=None, /)\n",
      " |      Insert key with a value of default if key is not in the dictionary.\n",
      " |      \n",
      " |      Return the value for key if key is in the dictionary, else default.\n",
      " |  \n",
      " |  update(...)\n",
      " |      D.update([E, ]**F) -> None.  Update D from dict/iterable E and F.\n",
      " |      If E is present and has a .keys() method, then does:  for k in E: D[k] = E[k]\n",
      " |      If E is present and lacks a .keys() method, then does:  for k, v in E: D[k] = v\n",
      " |      In either case, this is followed by: for k in F:  D[k] = F[k]\n",
      " |  \n",
      " |  values(...)\n",
      " |      D.values() -> an object providing a view on D's values\n",
      " |  \n",
      " |  ----------------------------------------------------------------------\n",
      " |  Class methods defined here:\n",
      " |  \n",
      " |  fromkeys(iterable, value=None, /) from builtins.type\n",
      " |      Create a new dictionary with keys from iterable and values set to value.\n",
      " |  \n",
      " |  ----------------------------------------------------------------------\n",
      " |  Static methods defined here:\n",
      " |  \n",
      " |  __new__(*args, **kwargs) from builtins.type\n",
      " |      Create and return a new object.  See help(type) for accurate signature.\n",
      " |  \n",
      " |  ----------------------------------------------------------------------\n",
      " |  Data and other attributes defined here:\n",
      " |  \n",
      " |  __hash__ = None\n",
      "\n"
     ]
    }
   ],
   "source": [
    "help(dict)"
   ]
  },
  {
   "cell_type": "code",
   "execution_count": 366,
   "metadata": {},
   "outputs": [
    {
     "name": "stdout",
     "output_type": "stream",
     "text": [
      "Entro:  0.0 Norm:  0.0\n",
      "Entro:  0.0 Norm:  0.0\n",
      "Entro:  0.6365141012487197 Norm:  0.3060985791091412\n",
      "Entro:  0.69314712912013 Norm:  0.3333333085960112\n",
      "Entro:  1.054920086606636 Norm:  0.5073093258271832\n",
      "Entro:  1.0986122199276567 Norm:  0.5283208005165485\n",
      "Entro:  1.3517839066352175 Norm:  0.650070646152046\n",
      "Entro:  1.3862942836796082 Norm:  0.6666666294257629\n"
     ]
    }
   ],
   "source": [
    "river_entropy = stats.Entropy(alpha=1)\n",
    "vetor_test = [1,1,2,2,3,3,4,4]\n",
    "\n",
    "for vt in vetor_test:\n",
    "    ent = river_entropy.update(vt).get()\n",
    "    norm = ent / np.log(len(vetor_test))\n",
    "    print('Entro: ', ent, 'Norm: ', norm)"
   ]
  },
  {
   "cell_type": "code",
   "execution_count": 365,
   "metadata": {},
   "outputs": [
    {
     "name": "stdout",
     "output_type": "stream",
     "text": [
      "Unique:  [1 2 3 4]\n",
      "Counts:  [2 2 2 2]\n",
      "Sum occurence:  8\n",
      "Probabilitys:  [0.25, 0.25, 0.25, 0.25]\n",
      "Check:  1.0\n",
      "hX:  [0.34657359027997264, 0.34657359027997264, 0.34657359027997264, 0.34657359027997264]\n",
      "HX:  1.3862943611198906\n",
      "Hxn:  0.6666666666666667\n"
     ]
    }
   ],
   "source": [
    "# H(X) = sum(p(xi)*log2(1/p(xi)))\n",
    "# p(xi)\n",
    "#vetor_test2 = [1,1,2,1,2,1,2,3,4,5,1,1,1,1,5,5,5,5]\n",
    "vetor_test = [1,1,2,2,3,3,4,4]\n",
    "eps=1e-8\n",
    "unique, counts = np.unique(vetor_test, return_counts=True)\n",
    "print('Unique: ', unique)\n",
    "print('Counts: ', counts)\n",
    "\n",
    "sum_occurence = sum(counts)\n",
    "print('Sum occurence: ',sum_occurence)\n",
    "\n",
    "probabilitys = [SOi/sum_occurence for SOi in counts]\n",
    "print('Probabilitys: ', probabilitys)\n",
    "print('Check: ', sum(probabilitys))\n",
    "\n",
    "#erro = 1 - sum(probabilitys)\n",
    "#print('Erro: ', erro)\n",
    "\n",
    "#if erro > 0:\n",
    "#    probabilitys.append(erro)\n",
    "#print('Prob+erro: ', probabilitys)\n",
    "\n",
    "hX = [proba * np.log(1/proba) for proba in probabilitys]\n",
    "print('hX: ', hX)\n",
    "\n",
    "HX = sum(hX)\n",
    "\n",
    "print('HX: ', HX)\n",
    "\n",
    "Hxn = HX / np.log(len(vetor_test))\n",
    "print('Hxn: ', Hxn)\n",
    "\n",
    "#Hxnee = (HX * np.log(2)) / np.log(len(vetor_test2))\n",
    "#print('Hxnee: ', Hxnee)\n",
    "# 1.21538\n",
    "# 1.1699 -1\n",
    "# 1.2293 -2\n",
    "# 1.2868 -3\n",
    "# 1.2868 -4\n",
    "# 1.2868 -5\n",
    "\n",
    "# HX:  1.908535281643568\n",
    "# HX:  1.90853528164356"
   ]
  },
  {
   "cell_type": "code",
   "execution_count": 318,
   "metadata": {},
   "outputs": [
    {
     "name": "stdout",
     "output_type": "stream",
     "text": [
      "1.5\n",
      "2.0\n"
     ]
    }
   ],
   "source": [
    "print(3/2)\n",
    "ddof = 1\n",
    "print((3-ddof)/(2-ddof))"
   ]
  },
  {
   "cell_type": "code",
   "execution_count": 293,
   "metadata": {},
   "outputs": [
    {
     "name": "stdout",
     "output_type": "stream",
     "text": [
      "Unique:  [1 2 3 4 5]\n",
      "Counts:  [8 3 1 1 2]\n",
      "Sum occurence:  15\n",
      "Probabilitys:  [0.5333333333333333, 0.2, 0.06666666666666667, 0.06666666666666667, 0.13333333333333333]\n",
      "Check:  1.0\n",
      "Variancia:  0.03777777777777778\n",
      "H:  -1.3396113823930282\n"
     ]
    }
   ],
   "source": [
    "import statistics\n",
    "import math\n",
    "from numpy import log as ln\n",
    "\n",
    "vetor_test2 = [1,1,2,1,2,1,2,3,4,5,1,1,1,1,5]\n",
    "\n",
    "unique, counts = np.unique(vetor_test2, return_counts=True)\n",
    "print('Unique: ', unique)\n",
    "print('Counts: ', counts)\n",
    "\n",
    "sum_occurence = sum(counts)\n",
    "print('Sum occurence: ',sum_occurence)\n",
    "\n",
    "probabilitys = [SOi/sum_occurence for SOi in counts]\n",
    "print('Probabilitys: ', probabilitys)\n",
    "print('Check: ', sum(probabilitys))\n",
    "\n",
    "variancia = statistics.variance(probabilitys)\n",
    "print('Variancia: ', variancia)\n",
    "\n",
    "H = math.log2((variancia * math.sqrt(2 * math.pi * math.e)))\n",
    "\n",
    "print('H: ', H/2)"
   ]
  },
  {
   "cell_type": "code",
   "execution_count": 275,
   "metadata": {},
   "outputs": [
    {
     "name": "stdout",
     "output_type": "stream",
     "text": [
      "Unique:  [1 2 3 4 5]\n",
      "Counts:  [8 3 1 1 2]\n",
      "Sum occurence:  15\n",
      "Probabilitys:  [0.5333333333333333, 0.2, 0.06666666666666667, 0.06666666666666667, 0.13333333333333333]\n",
      "Check:  1.0\n",
      "HX:  2.8947145226150397\n"
     ]
    }
   ],
   "source": [
    "# H(X) = sum(p(xi)*log2(1/p(xi)))\n",
    "# p(xi)\n",
    "vetor_test2 = [1,1,2,1,2,1,2,3,4,5,1,1,1,1,5]\n",
    "eps=1e-8\n",
    "unique, counts = np.unique(vetor_test, return_counts=True)\n",
    "print('Unique: ', unique)\n",
    "print('Counts: ', counts)\n",
    "\n",
    "sum_occurence = sum(counts)\n",
    "print('Sum occurence: ',sum_occurence)\n",
    "\n",
    "probabilitys = [SOi/sum_occurence for SOi in counts]\n",
    "print('Probabilitys: ', probabilitys)\n",
    "print('Check: ', sum(probabilitys))\n",
    "\n",
    "#hX = [proba * np.log(1/proba) for proba in probabilitys]\n",
    "#print('hX: ', hX)\n",
    "\n",
    "#HX = (1/np.log(2)) * (sum(probabilitys) * sum([(((1 - proba)**i)/(i+1)) for i, proba in enumerate(probabilitys)]))\n",
    "HX = (1/np.log(2)) * sum([(((1 - proba)**i)/(i+1)) for i, proba in enumerate(probabilitys)])\n",
    "print('HX: ', HX)\n"
   ]
  },
  {
   "cell_type": "code",
   "execution_count": 270,
   "metadata": {},
   "outputs": [
    {
     "name": "stdout",
     "output_type": "stream",
     "text": [
      "[0.5333333333333333, 0.2, 0.06666666666666667, 0.06666666666666667, 0.13333333333333333]\n"
     ]
    },
    {
     "data": {
      "text/plain": [
       "[1.0, 0.4, 0.2903703703703704, 0.20325925925925928, 0.11283358024691359]"
      ]
     },
     "execution_count": 270,
     "metadata": {},
     "output_type": "execute_result"
    }
   ],
   "source": [
    "print(probabilitys)\n",
    "[(((1 - proba)**i)/(i+1)) for i, proba in enumerate(probabilitys)]"
   ]
  },
  {
   "cell_type": "code",
   "execution_count": 187,
   "metadata": {},
   "outputs": [
    {
     "name": "stdout",
     "output_type": "stream",
     "text": [
      "{1: 4, 2: 1, 3: 1, 4: 3, 5: 2, 6: 1, 7: 1, -8: 1}\n",
      "14\n"
     ]
    }
   ],
   "source": [
    "from collections import Counter\n",
    "\n",
    "cont = Counter(vetor_test)\n",
    "#cont.update(vetor_test)\n",
    "print(dict(cont))\n",
    "print(sum(cont.values()))\n",
    "#dir(cont)"
   ]
  },
  {
   "cell_type": "code",
   "execution_count": 195,
   "metadata": {},
   "outputs": [
    {
     "name": "stdout",
     "output_type": "stream",
     "text": [
      "{1: 6}\n",
      "{1: 6, 2: 1}\n",
      "{1: 6, 2: 1, 3: 1}\n",
      "{1: 7, 2: 1, 3: 1}\n",
      "{1: 8, 2: 1, 3: 1}\n",
      "{1: 8, 2: 1, 3: 1, 4: 1}\n",
      "{1: 8, 2: 1, 3: 1, 4: 2}\n",
      "{1: 8, 2: 1, 3: 1, 4: 3}\n",
      "{1: 8, 2: 1, 3: 1, 4: 3, 5: 1}\n",
      "{1: 8, 2: 1, 3: 1, 4: 3, 5: 2}\n",
      "{1: 8, 2: 1, 3: 1, 4: 3, 5: 2, 6: 1}\n",
      "{1: 8, 2: 1, 3: 1, 4: 3, 5: 2, 6: 1, 7: 1}\n",
      "{1: 9, 2: 1, 3: 1, 4: 3, 5: 2, 6: 1, 7: 1}\n",
      "{1: 9, 2: 1, 3: 1, 4: 3, 5: 2, 6: 1, 7: 1, -8: 1}\n",
      "-\n",
      "Counter({1: 7, 4: 3, 5: 2, 2: 1, 3: 1, 6: 1, 7: 1})\n"
     ]
    }
   ],
   "source": [
    "cont = Counter([1,1,1,1,1])\n",
    "for vt in vetor_test:\n",
    "    cont.update([vt])\n",
    "    print(dict(cont))\n",
    "\n",
    "cont.subtract({1: 2, -8: 2})\n",
    "\n",
    "del cont[-8]\n",
    "print('-')\n",
    "print(cont)"
   ]
  },
  {
   "cell_type": "code",
   "execution_count": 198,
   "metadata": {},
   "outputs": [],
   "source": [
    "ddof = {'a': [], 'b': 1, 'c': 'cs'}\n",
    "ddof['a'].append([1,2,3,4])"
   ]
  },
  {
   "cell_type": "code",
   "execution_count": 199,
   "metadata": {},
   "outputs": [
    {
     "data": {
      "text/plain": [
       "{'a': [[1, 2, 3, 4]], 'b': 1, 'c': 'cs'}"
      ]
     },
     "execution_count": 199,
     "metadata": {},
     "output_type": "execute_result"
    }
   ],
   "source": [
    "ddof"
   ]
  },
  {
   "cell_type": "code",
   "execution_count": 208,
   "metadata": {},
   "outputs": [
    {
     "name": "stdout",
     "output_type": "stream",
     "text": [
      "{'a': 1, 'b': 2, 'c': 3}\n"
     ]
    }
   ],
   "source": [
    "ddof = Counter({'a': 1, 'b': 2, 'c': 3})\n",
    "print(dict(ddof))"
   ]
  },
  {
   "cell_type": "code",
   "execution_count": 209,
   "metadata": {},
   "outputs": [
    {
     "name": "stdout",
     "output_type": "stream",
     "text": [
      "[2, 5, 7, 1, 3, 6, 8]\n",
      "2\n",
      "[5, 7, 1, 3, 6, 8]\n"
     ]
    }
   ],
   "source": [
    "ddof = [2,5,7,1,3,6,8]\n",
    "print(ddof)\n",
    "dof = ddof.pop(0)\n",
    "print(dof)\n",
    "print(ddof)"
   ]
  },
  {
   "cell_type": "code",
   "execution_count": 210,
   "metadata": {},
   "outputs": [],
   "source": [
    "from joblib import Parallel, delayed\n",
    "\n",
    "from collections import Counter"
   ]
  },
  {
   "cell_type": "code",
   "execution_count": 222,
   "metadata": {},
   "outputs": [],
   "source": [
    "def _util_counters_subtract(counters, value):\n",
    "    \"\"\"\n",
    "    Utiful function.\n",
    "\n",
    "    Subtract value dict in list of counters.\n",
    "    \"\"\"\n",
    "    _ = Parallel(n_jobs=-1,\n",
    "                 verbose=0, require='sharedmem')(\n",
    "        delayed(lambda c, v: c.subtract(v))(ci, value)\n",
    "        for ci in counters\n",
    "    )\n",
    "\n",
    "def _parallel_del_counter_negative(counter, key):\n",
    "    \"\"\"\n",
    "    Delete key with negative value from counter.\n",
    "\n",
    "    This function is utility called from parallel execution.\n",
    "    \"\"\"\n",
    "    if counter[key] <= 0:\n",
    "        del counter[key]\n",
    "\n",
    "def _util_del_counter_negative(counter):\n",
    "    \"\"\"\n",
    "    Del key from counter with negative value.\n",
    "\n",
    "    Delete the index negative from counter.\n",
    "    \"\"\"\n",
    "    _ = Parallel(n_jobs=-1,\n",
    "                 verbose=0, require='sharedmem')(\n",
    "        delayed(_parallel_del_counter_negative)(counter, ck)\n",
    "        for ck in counter\n",
    "    )\n",
    "\n",
    "def _util_del_counters_negative(counters):\n",
    "    \"\"\"\n",
    "    Del counters index negative.\n",
    "\n",
    "    Delete the index negative from counter within counters\n",
    "    \"\"\"\n",
    "    _ = Parallel(n_jobs=-1,\n",
    "                 verbose=0, require='sharedmem')(\n",
    "        delayed(_util_del_counter_negative)(ci)\n",
    "        for ci in counters\n",
    "    )"
   ]
  },
  {
   "cell_type": "code",
   "execution_count": 220,
   "metadata": {},
   "outputs": [
    {
     "name": "stdout",
     "output_type": "stream",
     "text": [
      "{'a': 0, 'b': 2, 'c': 3, 'z': -5, 'f': -3}\n",
      "{'d': 4, 'e': 5, 'f': 3, 'a': -1, 'z': -5}\n",
      "{'c': 1, 'd': 2, 'f': 0, 'a': -1, 'z': -5}\n"
     ]
    }
   ],
   "source": [
    "list_conters = [\n",
    "    Counter({'a': 1, 'b': 2, 'c': 3}),\n",
    "    Counter({'d': 4, 'e': 5,  'f': 6}),\n",
    "    Counter({'c': 1, 'd': 2, 'f': 3})\n",
    "]\n",
    "\n",
    "_util_counters_subtract(list_conters, {'a': 1, 'z': 5, 'f': 3})\n",
    "\n",
    "for l in list_conters:\n",
    "    print(dict(l))"
   ]
  },
  {
   "cell_type": "code",
   "execution_count": 223,
   "metadata": {},
   "outputs": [
    {
     "name": "stdout",
     "output_type": "stream",
     "text": [
      "{'b': 2, 'c': 3}\n",
      "{'d': 4, 'e': 5, 'f': 3}\n",
      "{'c': 1, 'd': 2}\n"
     ]
    }
   ],
   "source": [
    "_util_del_counters_negative(list_conters)\n",
    "\n",
    "for l in list_conters:\n",
    "    print(dict(l))"
   ]
  },
  {
   "cell_type": "code",
   "execution_count": 227,
   "metadata": {},
   "outputs": [
    {
     "data": {
      "text/plain": [
       "True"
      ]
     },
     "execution_count": 227,
     "metadata": {},
     "output_type": "execute_result"
    }
   ],
   "source": [
    "'c' in list_conters[0]"
   ]
  },
  {
   "cell_type": "code",
   "execution_count": 230,
   "metadata": {},
   "outputs": [
    {
     "data": {
      "text/plain": [
       "dict_keys(['b', 'c'])"
      ]
     },
     "execution_count": 230,
     "metadata": {},
     "output_type": "execute_result"
    }
   ],
   "source": [
    "list_conters[0].keys()"
   ]
  },
  {
   "cell_type": "code",
   "execution_count": 231,
   "metadata": {},
   "outputs": [
    {
     "data": {
      "text/plain": [
       "dict_keys(['a', 'z', 'f'])"
      ]
     },
     "execution_count": 231,
     "metadata": {},
     "output_type": "execute_result"
    }
   ],
   "source": [
    "value = {'a': 1, 'z': 5, 'f': 3}\n",
    "value.keys()"
   ]
  },
  {
   "cell_type": "code",
   "execution_count": 250,
   "metadata": {},
   "outputs": [
    {
     "name": "stdout",
     "output_type": "stream",
     "text": [
      "{'f': 3}\n"
     ]
    },
    {
     "ename": "TypeError",
     "evalue": "'int' object is not subscriptable",
     "output_type": "error",
     "traceback": [
      "\u001b[1;31m---------------------------------------------------------------------------\u001b[0m",
      "\u001b[1;31mEmpty\u001b[0m                                     Traceback (most recent call last)",
      "\u001b[1;32m~\\AppData\\Local\\Programs\\Python\\Python37\\lib\\site-packages\\joblib\\parallel.py\u001b[0m in \u001b[0;36mdispatch_one_batch\u001b[1;34m(self, iterator)\u001b[0m\n\u001b[0;32m    821\u001b[0m             \u001b[1;32mtry\u001b[0m\u001b[1;33m:\u001b[0m\u001b[1;33m\u001b[0m\u001b[1;33m\u001b[0m\u001b[0m\n\u001b[1;32m--> 822\u001b[1;33m                 \u001b[0mtasks\u001b[0m \u001b[1;33m=\u001b[0m \u001b[0mself\u001b[0m\u001b[1;33m.\u001b[0m\u001b[0m_ready_batches\u001b[0m\u001b[1;33m.\u001b[0m\u001b[0mget\u001b[0m\u001b[1;33m(\u001b[0m\u001b[0mblock\u001b[0m\u001b[1;33m=\u001b[0m\u001b[1;32mFalse\u001b[0m\u001b[1;33m)\u001b[0m\u001b[1;33m\u001b[0m\u001b[1;33m\u001b[0m\u001b[0m\n\u001b[0m\u001b[0;32m    823\u001b[0m             \u001b[1;32mexcept\u001b[0m \u001b[0mqueue\u001b[0m\u001b[1;33m.\u001b[0m\u001b[0mEmpty\u001b[0m\u001b[1;33m:\u001b[0m\u001b[1;33m\u001b[0m\u001b[1;33m\u001b[0m\u001b[0m\n",
      "\u001b[1;32m~\\AppData\\Local\\Programs\\Python\\Python37\\lib\\queue.py\u001b[0m in \u001b[0;36mget\u001b[1;34m(self, block, timeout)\u001b[0m\n\u001b[0;32m    166\u001b[0m                 \u001b[1;32mif\u001b[0m \u001b[1;32mnot\u001b[0m \u001b[0mself\u001b[0m\u001b[1;33m.\u001b[0m\u001b[0m_qsize\u001b[0m\u001b[1;33m(\u001b[0m\u001b[1;33m)\u001b[0m\u001b[1;33m:\u001b[0m\u001b[1;33m\u001b[0m\u001b[1;33m\u001b[0m\u001b[0m\n\u001b[1;32m--> 167\u001b[1;33m                     \u001b[1;32mraise\u001b[0m \u001b[0mEmpty\u001b[0m\u001b[1;33m\u001b[0m\u001b[1;33m\u001b[0m\u001b[0m\n\u001b[0m\u001b[0;32m    168\u001b[0m             \u001b[1;32melif\u001b[0m \u001b[0mtimeout\u001b[0m \u001b[1;32mis\u001b[0m \u001b[1;32mNone\u001b[0m\u001b[1;33m:\u001b[0m\u001b[1;33m\u001b[0m\u001b[1;33m\u001b[0m\u001b[0m\n",
      "\u001b[1;31mEmpty\u001b[0m: ",
      "\nDuring handling of the above exception, another exception occurred:\n",
      "\u001b[1;31mTypeError\u001b[0m                                 Traceback (most recent call last)",
      "\u001b[1;32m<ipython-input-250-76a2f1751998>\u001b[0m in \u001b[0;36m<module>\u001b[1;34m\u001b[0m\n\u001b[0;32m     15\u001b[0m                \u001b[0mverbose\u001b[0m\u001b[1;33m=\u001b[0m\u001b[1;36m0\u001b[0m\u001b[1;33m,\u001b[0m \u001b[0mrequire\u001b[0m\u001b[1;33m=\u001b[0m\u001b[1;34m'sharedmem'\u001b[0m\u001b[1;33m)\u001b[0m\u001b[1;33m(\u001b[0m\u001b[1;33m\u001b[0m\u001b[1;33m\u001b[0m\u001b[0m\n\u001b[0;32m     16\u001b[0m             \u001b[0mdelayed\u001b[0m\u001b[1;33m(\u001b[0m\u001b[1;32mlambda\u001b[0m \u001b[0mk\u001b[0m\u001b[1;33m,\u001b[0m \u001b[0mv\u001b[0m\u001b[1;33m:\u001b[0m \u001b[0mk\u001b[0m\u001b[1;33m,\u001b[0m \u001b[0mv\u001b[0m\u001b[1;33m[\u001b[0m\u001b[0mk\u001b[0m\u001b[1;33m]\u001b[0m\u001b[1;33m)\u001b[0m\u001b[1;33m(\u001b[0m\u001b[0mkey\u001b[0m\u001b[1;33m,\u001b[0m \u001b[0mvalue\u001b[0m\u001b[1;33m)\u001b[0m\u001b[1;33m\u001b[0m\u001b[1;33m\u001b[0m\u001b[0m\n\u001b[1;32m---> 17\u001b[1;33m             \u001b[1;32mfor\u001b[0m \u001b[0mkey\u001b[0m \u001b[1;32min\u001b[0m \u001b[0mvalue\u001b[0m\u001b[1;33m.\u001b[0m\u001b[0mkeys\u001b[0m\u001b[1;33m(\u001b[0m\u001b[1;33m)\u001b[0m \u001b[1;32mif\u001b[0m \u001b[0mkey\u001b[0m \u001b[1;32min\u001b[0m \u001b[0ml\u001b[0m\u001b[1;33m.\u001b[0m\u001b[0mkeys\u001b[0m\u001b[1;33m(\u001b[0m\u001b[1;33m)\u001b[0m\u001b[1;33m\u001b[0m\u001b[1;33m\u001b[0m\u001b[0m\n\u001b[0m\u001b[0;32m     18\u001b[0m )\n\u001b[0;32m     19\u001b[0m \u001b[1;33m\u001b[0m\u001b[0m\n",
      "\u001b[1;32m~\\AppData\\Local\\Programs\\Python\\Python37\\lib\\site-packages\\joblib\\parallel.py\u001b[0m in \u001b[0;36m__call__\u001b[1;34m(self, iterable)\u001b[0m\n\u001b[0;32m   1041\u001b[0m             \u001b[1;31m# remaining jobs.\u001b[0m\u001b[1;33m\u001b[0m\u001b[1;33m\u001b[0m\u001b[1;33m\u001b[0m\u001b[0m\n\u001b[0;32m   1042\u001b[0m             \u001b[0mself\u001b[0m\u001b[1;33m.\u001b[0m\u001b[0m_iterating\u001b[0m \u001b[1;33m=\u001b[0m \u001b[1;32mFalse\u001b[0m\u001b[1;33m\u001b[0m\u001b[1;33m\u001b[0m\u001b[0m\n\u001b[1;32m-> 1043\u001b[1;33m             \u001b[1;32mif\u001b[0m \u001b[0mself\u001b[0m\u001b[1;33m.\u001b[0m\u001b[0mdispatch_one_batch\u001b[0m\u001b[1;33m(\u001b[0m\u001b[0miterator\u001b[0m\u001b[1;33m)\u001b[0m\u001b[1;33m:\u001b[0m\u001b[1;33m\u001b[0m\u001b[1;33m\u001b[0m\u001b[0m\n\u001b[0m\u001b[0;32m   1044\u001b[0m                 \u001b[0mself\u001b[0m\u001b[1;33m.\u001b[0m\u001b[0m_iterating\u001b[0m \u001b[1;33m=\u001b[0m \u001b[0mself\u001b[0m\u001b[1;33m.\u001b[0m\u001b[0m_original_iterator\u001b[0m \u001b[1;32mis\u001b[0m \u001b[1;32mnot\u001b[0m \u001b[1;32mNone\u001b[0m\u001b[1;33m\u001b[0m\u001b[1;33m\u001b[0m\u001b[0m\n\u001b[0;32m   1045\u001b[0m \u001b[1;33m\u001b[0m\u001b[0m\n",
      "\u001b[1;32m~\\AppData\\Local\\Programs\\Python\\Python37\\lib\\site-packages\\joblib\\parallel.py\u001b[0m in \u001b[0;36mdispatch_one_batch\u001b[1;34m(self, iterator)\u001b[0m\n\u001b[0;32m    831\u001b[0m                 \u001b[0mbig_batch_size\u001b[0m \u001b[1;33m=\u001b[0m \u001b[0mbatch_size\u001b[0m \u001b[1;33m*\u001b[0m \u001b[0mn_jobs\u001b[0m\u001b[1;33m\u001b[0m\u001b[1;33m\u001b[0m\u001b[0m\n\u001b[0;32m    832\u001b[0m \u001b[1;33m\u001b[0m\u001b[0m\n\u001b[1;32m--> 833\u001b[1;33m                 \u001b[0mislice\u001b[0m \u001b[1;33m=\u001b[0m \u001b[0mlist\u001b[0m\u001b[1;33m(\u001b[0m\u001b[0mitertools\u001b[0m\u001b[1;33m.\u001b[0m\u001b[0mislice\u001b[0m\u001b[1;33m(\u001b[0m\u001b[0miterator\u001b[0m\u001b[1;33m,\u001b[0m \u001b[0mbig_batch_size\u001b[0m\u001b[1;33m)\u001b[0m\u001b[1;33m)\u001b[0m\u001b[1;33m\u001b[0m\u001b[1;33m\u001b[0m\u001b[0m\n\u001b[0m\u001b[0;32m    834\u001b[0m                 \u001b[1;32mif\u001b[0m \u001b[0mlen\u001b[0m\u001b[1;33m(\u001b[0m\u001b[0mislice\u001b[0m\u001b[1;33m)\u001b[0m \u001b[1;33m==\u001b[0m \u001b[1;36m0\u001b[0m\u001b[1;33m:\u001b[0m\u001b[1;33m\u001b[0m\u001b[1;33m\u001b[0m\u001b[0m\n\u001b[0;32m    835\u001b[0m                     \u001b[1;32mreturn\u001b[0m \u001b[1;32mFalse\u001b[0m\u001b[1;33m\u001b[0m\u001b[1;33m\u001b[0m\u001b[0m\n",
      "\u001b[1;32m<ipython-input-250-76a2f1751998>\u001b[0m in \u001b[0;36m<genexpr>\u001b[1;34m(.0)\u001b[0m\n\u001b[0;32m     15\u001b[0m                \u001b[0mverbose\u001b[0m\u001b[1;33m=\u001b[0m\u001b[1;36m0\u001b[0m\u001b[1;33m,\u001b[0m \u001b[0mrequire\u001b[0m\u001b[1;33m=\u001b[0m\u001b[1;34m'sharedmem'\u001b[0m\u001b[1;33m)\u001b[0m\u001b[1;33m(\u001b[0m\u001b[1;33m\u001b[0m\u001b[1;33m\u001b[0m\u001b[0m\n\u001b[0;32m     16\u001b[0m             \u001b[0mdelayed\u001b[0m\u001b[1;33m(\u001b[0m\u001b[1;32mlambda\u001b[0m \u001b[0mk\u001b[0m\u001b[1;33m,\u001b[0m \u001b[0mv\u001b[0m\u001b[1;33m:\u001b[0m \u001b[0mk\u001b[0m\u001b[1;33m,\u001b[0m \u001b[0mv\u001b[0m\u001b[1;33m[\u001b[0m\u001b[0mk\u001b[0m\u001b[1;33m]\u001b[0m\u001b[1;33m)\u001b[0m\u001b[1;33m(\u001b[0m\u001b[0mkey\u001b[0m\u001b[1;33m,\u001b[0m \u001b[0mvalue\u001b[0m\u001b[1;33m)\u001b[0m\u001b[1;33m\u001b[0m\u001b[1;33m\u001b[0m\u001b[0m\n\u001b[1;32m---> 17\u001b[1;33m             \u001b[1;32mfor\u001b[0m \u001b[0mkey\u001b[0m \u001b[1;32min\u001b[0m \u001b[0mvalue\u001b[0m\u001b[1;33m.\u001b[0m\u001b[0mkeys\u001b[0m\u001b[1;33m(\u001b[0m\u001b[1;33m)\u001b[0m \u001b[1;32mif\u001b[0m \u001b[0mkey\u001b[0m \u001b[1;32min\u001b[0m \u001b[0ml\u001b[0m\u001b[1;33m.\u001b[0m\u001b[0mkeys\u001b[0m\u001b[1;33m(\u001b[0m\u001b[1;33m)\u001b[0m\u001b[1;33m\u001b[0m\u001b[1;33m\u001b[0m\u001b[0m\n\u001b[0m\u001b[0;32m     18\u001b[0m )\n\u001b[0;32m     19\u001b[0m \u001b[1;33m\u001b[0m\u001b[0m\n",
      "\u001b[1;31mTypeError\u001b[0m: 'int' object is not subscriptable"
     ]
    }
   ],
   "source": [
    "list_conters = [\n",
    "    Counter({'a': 1, 'b': 2, 'c': 3}),\n",
    "    Counter({'d': 4, 'e': 5,  'f': 6}),\n",
    "    Counter({'c': 1, 'd': 2, 'f': 3})\n",
    "]\n",
    "\n",
    "value = {'a': 3, 'z': 5, 'f': 3}\n",
    "\n",
    "l = list_conters[1]\n",
    "exs = {key:value[key] for key in value.keys() if key in l.keys()}\n",
    "\n",
    "print(exs)\n",
    "\n",
    "exy = Parallel(n_jobs=-1,\n",
    "               verbose=0, require='sharedmem')(\n",
    "            delayed(lambda k, v: k, v[k])(key, value)\n",
    "            for key in value.keys() if key in l.keys()\n",
    ")\n",
    "\n",
    "print(exy)"
   ]
  },
  {
   "cell_type": "code",
   "execution_count": 244,
   "metadata": {},
   "outputs": [
    {
     "data": {
      "text/plain": [
       "{0: 1, 1: 2, 2: 3, 3: 4}"
      ]
     },
     "execution_count": 244,
     "metadata": {},
     "output_type": "execute_result"
    }
   ],
   "source": [
    "{x:x+1 for x in range(4)}"
   ]
  },
  {
   "cell_type": "code",
   "execution_count": 257,
   "metadata": {},
   "outputs": [
    {
     "data": {
      "text/plain": [
       "12"
      ]
     },
     "execution_count": 257,
     "metadata": {},
     "output_type": "execute_result"
    }
   ],
   "source": [
    "av = [1,2,3,45,67,8,9,1,12]\n",
    "av[-1]"
   ]
  },
  {
   "cell_type": "code",
   "execution_count": 261,
   "metadata": {},
   "outputs": [
    {
     "data": {
      "text/plain": [
       "Counter({'a': 1, 'b': 2, 'c': 3})"
      ]
     },
     "execution_count": 261,
     "metadata": {},
     "output_type": "execute_result"
    }
   ],
   "source": [
    "ddof = Counter({'a': 1, 'b': 2, 'c': 3})\n",
    "ddof"
   ]
  },
  {
   "cell_type": "code",
   "execution_count": 262,
   "metadata": {},
   "outputs": [
    {
     "data": {
      "text/plain": [
       "['a', 'b', 'c']"
      ]
     },
     "execution_count": 262,
     "metadata": {},
     "output_type": "execute_result"
    }
   ],
   "source": [
    "list(ddof)"
   ]
  },
  {
   "cell_type": "code",
   "execution_count": 363,
   "metadata": {},
   "outputs": [
    {
     "name": "stdout",
     "output_type": "stream",
     "text": [
      "N bins:  [0.51143542 1.32465918 2.13788293 2.95110668]\n",
      "Attr value:  2.419490061591645  \tDiscretized:  3\n",
      "Attr value:  0.5114354236377701  \tDiscretized:  1\n",
      "Attr value:  0.7974285461997217  \tDiscretized:  1\n",
      "Attr value:  2.7067111004255997  \tDiscretized:  3\n",
      "Attr value:  1.1326619774019158  \tDiscretized:  1\n",
      "Attr value:  1.4759456004483604  \tDiscretized:  2\n",
      "Attr value:  1.3692895089661914  \tDiscretized:  2\n",
      "Attr value:  2.234159070749879  \tDiscretized:  3\n",
      "Attr value:  2.201222581311886  \tDiscretized:  3\n",
      "Attr value:  2.951106684404706  \tDiscretized:  4\n",
      "Attr value:  2.7675886761072532  \tDiscretized:  3\n",
      "Attr value:  1.761250225325651  \tDiscretized:  2\n"
     ]
    }
   ],
   "source": [
    "size_attr = 12\n",
    "n_partitions = 4\n",
    "attr_a_floats = np.random.uniform(0.5, 3.0, size=(1, size_attr))[0]\n",
    "# linspace -> Retorna números com espaçamento uniforme em um intervalo especificado\n",
    "n_bins = np.linspace(np.amin(attr_a_floats), np.amax(attr_a_floats), n_partitions, dtype=np.float64)\n",
    "# digitize -> Retorna os índices dos compartimentos aos quais cada valor na matriz de entrada pertence.\n",
    "discretized_attr_a_floats = np.digitize(attr_a_floats, n_bins)\n",
    "\n",
    "print('N bins: ', n_bins)\n",
    "for a, d in zip(attr_a_floats, discretized_attr_a_floats):\n",
    "    print('Attr value: ', a, \" \\tDiscretized: \", d)"
   ]
  },
  {
   "cell_type": "code",
   "execution_count": 349,
   "metadata": {},
   "outputs": [
    {
     "data": {
      "text/plain": [
       "array([[1.42087548, 2.25681438, 0.76785654, 0.80108725, 2.937309  ,\n",
       "        2.15582132, 2.77335378, 0.95133128, 2.02170489, 1.53326068]])"
      ]
     },
     "execution_count": 349,
     "metadata": {},
     "output_type": "execute_result"
    }
   ],
   "source": []
  },
  {
   "cell_type": "code",
   "execution_count": null,
   "metadata": {},
   "outputs": [],
   "source": [
    "round(random.uniform(1,2), N)"
   ]
  },
  {
   "cell_type": "code",
   "execution_count": 367,
   "metadata": {},
   "outputs": [
    {
     "ename": "NameError",
     "evalue": "name 'hlp' is not defined",
     "output_type": "error",
     "traceback": [
      "\u001b[1;31m---------------------------------------------------------------------------\u001b[0m",
      "\u001b[1;31mNameError\u001b[0m                                 Traceback (most recent call last)",
      "\u001b[1;32m<ipython-input-367-9d2600159585>\u001b[0m in \u001b[0;36m<module>\u001b[1;34m\u001b[0m\n\u001b[1;32m----> 1\u001b[1;33m \u001b[0mhlp\u001b[0m\u001b[1;33m(\u001b[0m\u001b[1;33m{\u001b[0m\u001b[1;33m}\u001b[0m\u001b[1;33m)\u001b[0m\u001b[1;33m\u001b[0m\u001b[1;33m\u001b[0m\u001b[0m\n\u001b[0m",
      "\u001b[1;31mNameError\u001b[0m: name 'hlp' is not defined"
     ]
    }
   ],
   "source": [
    "hlp({})"
   ]
  },
  {
   "cell_type": "code",
   "execution_count": null,
   "metadata": {},
   "outputs": [],
   "source": []
  }
 ],
 "metadata": {
  "kernelspec": {
   "display_name": "Python 3",
   "language": "python",
   "name": "python3"
  },
  "language_info": {
   "codemirror_mode": {
    "name": "ipython",
    "version": 3
   },
   "file_extension": ".py",
   "mimetype": "text/x-python",
   "name": "python",
   "nbconvert_exporter": "python",
   "pygments_lexer": "ipython3",
   "version": "3.7.2"
  },
  "varInspector": {
   "cols": {
    "lenName": 16,
    "lenType": 16,
    "lenVar": 40
   },
   "kernels_config": {
    "python": {
     "delete_cmd_postfix": "",
     "delete_cmd_prefix": "del ",
     "library": "var_list.py",
     "varRefreshCmd": "print(var_dic_list())"
    },
    "r": {
     "delete_cmd_postfix": ") ",
     "delete_cmd_prefix": "rm(",
     "library": "var_list.r",
     "varRefreshCmd": "cat(var_dic_list()) "
    }
   },
   "types_to_exclude": [
    "module",
    "function",
    "builtin_function_or_method",
    "instance",
    "_Feature"
   ],
   "window_display": false
  }
 },
 "nbformat": 4,
 "nbformat_minor": 2
}

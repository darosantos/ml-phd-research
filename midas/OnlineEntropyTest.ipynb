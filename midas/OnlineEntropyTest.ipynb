{
 "cells": [
  {
   "cell_type": "code",
   "execution_count": 7,
   "metadata": {},
   "outputs": [],
   "source": [
    "FOLDER_ROOT = 'F:\\Github'\n",
    "\n",
    "import sys\n",
    "sys.path.append(FOLDER_ROOT)\n",
    "\n",
    "import numpy as np"
   ]
  },
  {
   "cell_type": "code",
   "execution_count": 8,
   "metadata": {},
   "outputs": [],
   "source": [
    "from midas.v3.stats import OnlineEntropy"
   ]
  },
  {
   "cell_type": "code",
   "execution_count": 9,
   "metadata": {},
   "outputs": [],
   "source": [
    "train = [\n",
    "    {'a': 1, 'b': 4, 'c': 8},\n",
    "    {'a': 2, 'b': 5, 'c': 9},\n",
    "    {'a': 3, 'b': 6, 'c': 10},\n",
    "    {'a': 3, 'b': 7, 'c': 11},\n",
    "    {'a': 2, 'b': 7, 'c': 12},\n",
    "    {'a': 1, 'b': 6, 'c': 12},\n",
    "    {'a': 1, 'b': 5, 'c': 11},\n",
    "    {'a': 2, 'b': 4, 'c': 10},\n",
    "    {'a': 3, 'b': 4, 'c': 9},\n",
    "    {'a': 3, 'b': 5, 'c': 8}\n",
    "]"
   ]
  },
  {
   "cell_type": "code",
   "execution_count": 10,
   "metadata": {},
   "outputs": [
    {
     "name": "stdout",
     "output_type": "stream",
     "text": [
      "Cont a:  [3 3 4]  Sum a:  10\n",
      "Cont b:  [3 3 2 2]  Sum b:  10\n",
      "Cont c:  [2 2 2 2 2]  Sum c:  10\n"
     ]
    }
   ],
   "source": [
    "unique, counts = np.unique([k['a'] for k in train], return_counts=True)\n",
    "print('Cont a: ', counts, ' Sum a: ', sum(counts))\n",
    "unique, counts = np.unique([k['b'] for k in train], return_counts=True)\n",
    "print('Cont b: ', counts, ' Sum b: ', sum(counts))\n",
    "unique, counts = np.unique([k['c'] for k in train], return_counts=True)\n",
    "print('Cont c: ', counts, ' Sum c: ', sum(counts))"
   ]
  },
  {
   "cell_type": "code",
   "execution_count": 11,
   "metadata": {},
   "outputs": [
    {
     "name": "stdout",
     "output_type": "stream",
     "text": [
      "{'a': 1, 'b': 4, 'c': 8}\n",
      "{'a': 2, 'b': 5, 'c': 9}\n",
      "{'a': 3, 'b': 6, 'c': 10}\n",
      "{'a': 3, 'b': 7, 'c': 11}\n",
      "{'a': 2, 'b': 7, 'c': 12}\n",
      "{'a': 1, 'b': 6, 'c': 12}\n",
      "{'a': 1, 'b': 5, 'c': 11}\n",
      "{'a': 2, 'b': 4, 'c': 10}\n",
      "{'a': 3, 'b': 4, 'c': 9}\n",
      "{'a': 3, 'b': 5, 'c': 8}\n"
     ]
    }
   ],
   "source": [
    "# treshold None\n",
    "moe = OnlineEntropy(threshold=5)\n",
    "\n",
    "for i in train:\n",
    "    print(i)\n",
    "    moe.learn_one(i)"
   ]
  },
  {
   "cell_type": "code",
   "execution_count": 12,
   "metadata": {},
   "outputs": [
    {
     "data": {
      "text/plain": [
       "{'a': [Counter({1: 1}),\n",
       "  Counter({1: 2}),\n",
       "  Counter({2: 1, 1: 2}),\n",
       "  Counter({2: 1, 1: 2, 3: 1}),\n",
       "  Counter({2: 1, 1: 2, 3: 2})],\n",
       " 'c': [Counter({12: 1}),\n",
       "  Counter({11: 1, 12: 1}),\n",
       "  Counter({11: 1, 12: 1, 10: 1}),\n",
       "  Counter({11: 1, 12: 1, 10: 1, 9: 1}),\n",
       "  Counter({11: 1, 12: 1, 10: 1, 9: 1, 8: 1})],\n",
       " 'b': [Counter({6: 1}),\n",
       "  Counter({6: 1, 5: 1}),\n",
       "  Counter({6: 1, 5: 1, 4: 1}),\n",
       "  Counter({6: 1, 5: 1, 4: 2}),\n",
       "  Counter({6: 1, 5: 2, 4: 2})]}"
      ]
     },
     "execution_count": 12,
     "metadata": {},
     "output_type": "execute_result"
    }
   ],
   "source": [
    "moe._vars"
   ]
  },
  {
   "cell_type": "code",
   "execution_count": 13,
   "metadata": {},
   "outputs": [
    {
     "name": "stdout",
     "output_type": "stream",
     "text": [
      "Conter sum a:  5\n",
      "Conter sum b:  5\n",
      "Conter sum c:  5\n"
     ]
    }
   ],
   "source": [
    "print('Conter sum a: ', sum(moe._vars['a'][-1].values()))\n",
    "print('Conter sum b: ', sum(moe._vars['b'][-1].values()))\n",
    "print('Conter sum c: ', sum(moe._vars['c'][-1].values()))"
   ]
  },
  {
   "cell_type": "code",
   "execution_count": null,
   "metadata": {},
   "outputs": [],
   "source": []
  }
 ],
 "metadata": {
  "kernelspec": {
   "display_name": "Python 3",
   "language": "python",
   "name": "python3"
  },
  "language_info": {
   "codemirror_mode": {
    "name": "ipython",
    "version": 3
   },
   "file_extension": ".py",
   "mimetype": "text/x-python",
   "name": "python",
   "nbconvert_exporter": "python",
   "pygments_lexer": "ipython3",
   "version": "3.7.2"
  },
  "varInspector": {
   "cols": {
    "lenName": 16,
    "lenType": 16,
    "lenVar": 40
   },
   "kernels_config": {
    "python": {
     "delete_cmd_postfix": "",
     "delete_cmd_prefix": "del ",
     "library": "var_list.py",
     "varRefreshCmd": "print(var_dic_list())"
    },
    "r": {
     "delete_cmd_postfix": ") ",
     "delete_cmd_prefix": "rm(",
     "library": "var_list.r",
     "varRefreshCmd": "cat(var_dic_list()) "
    }
   },
   "types_to_exclude": [
    "module",
    "function",
    "builtin_function_or_method",
    "instance",
    "_Feature"
   ],
   "window_display": false
  }
 },
 "nbformat": 4,
 "nbformat_minor": 2
}
